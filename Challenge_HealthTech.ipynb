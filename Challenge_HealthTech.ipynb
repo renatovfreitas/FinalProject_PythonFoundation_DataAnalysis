{
 "cells": [
  {
   "cell_type": "markdown",
   "metadata": {},
   "source": [
    "Challenge - Business Analytics Intern (mfd) - Health Tech"
   ]
  },
  {
   "cell_type": "markdown",
   "metadata": {},
   "source": [
    "1 - How much revenue can be expected in 2023\n",
    "\n",
    "2 - How many unique patients will have been acquired by the end of 2023\n",
    "\n",
    "Important: \n",
    "Take into account that will be launched one clinic in March 2023, and another one in July 2023. The 2 already existing clinics will keep running in 2023. "
   ]
  },
  {
   "cell_type": "code",
   "execution_count": null,
   "metadata": {},
   "outputs": [
    {
     "data": {
      "text/html": [
       "<div>\n",
       "<style scoped>\n",
       "    .dataframe tbody tr th:only-of-type {\n",
       "        vertical-align: middle;\n",
       "    }\n",
       "\n",
       "    .dataframe tbody tr th {\n",
       "        vertical-align: top;\n",
       "    }\n",
       "\n",
       "    .dataframe thead th {\n",
       "        text-align: right;\n",
       "    }\n",
       "</style>\n",
       "<table border=\"1\" class=\"dataframe\">\n",
       "  <thead>\n",
       "    <tr style=\"text-align: right;\">\n",
       "      <th></th>\n",
       "      <th>appointment_id</th>\n",
       "      <th>practitioner_id</th>\n",
       "      <th>patient_id</th>\n",
       "      <th>clinic_id</th>\n",
       "      <th>appointment_date</th>\n",
       "    </tr>\n",
       "  </thead>\n",
       "  <tbody>\n",
       "    <tr>\n",
       "      <th>0</th>\n",
       "      <td>0004df0d-3df6-42be-9d68-b646a42a44bb</td>\n",
       "      <td>c7402157-ae44-45cc-b6a7-b348d5dbd417</td>\n",
       "      <td>158184</td>\n",
       "      <td>2</td>\n",
       "      <td>2022-12-22</td>\n",
       "    </tr>\n",
       "    <tr>\n",
       "      <th>1</th>\n",
       "      <td>000a978e-f134-47b3-ab9e-4f56084be38e</td>\n",
       "      <td>3ca4793d-065e-4112-b023-d1122a2a4b44</td>\n",
       "      <td>112887</td>\n",
       "      <td>2</td>\n",
       "      <td>2022-06-02</td>\n",
       "    </tr>\n",
       "    <tr>\n",
       "      <th>2</th>\n",
       "      <td>000c1615-0980-4933-9ad1-6f34bb5e188e</td>\n",
       "      <td>c7402157-ae44-45cc-b6a7-b348d5dbd417</td>\n",
       "      <td>141451</td>\n",
       "      <td>2</td>\n",
       "      <td>2022-10-18</td>\n",
       "    </tr>\n",
       "    <tr>\n",
       "      <th>3</th>\n",
       "      <td>000d8c91-e6a8-4404-bf8b-4951ed8ca1f2</td>\n",
       "      <td>2ea0ca2a-77fc-4447-b57c-62a6cb4d75a1</td>\n",
       "      <td>37516</td>\n",
       "      <td>1</td>\n",
       "      <td>2022-01-06</td>\n",
       "    </tr>\n",
       "    <tr>\n",
       "      <th>4</th>\n",
       "      <td>0015acc2-484c-491a-b455-0963835a31dd</td>\n",
       "      <td>ed1a5b13-3dc5-4212-b989-f59258b4410e</td>\n",
       "      <td>141833</td>\n",
       "      <td>2</td>\n",
       "      <td>2022-10-14</td>\n",
       "    </tr>\n",
       "  </tbody>\n",
       "</table>\n",
       "</div>"
      ],
      "text/plain": [
       "                         appointment_id                       practitioner_id  \\\n",
       "0  0004df0d-3df6-42be-9d68-b646a42a44bb  c7402157-ae44-45cc-b6a7-b348d5dbd417   \n",
       "1  000a978e-f134-47b3-ab9e-4f56084be38e  3ca4793d-065e-4112-b023-d1122a2a4b44   \n",
       "2  000c1615-0980-4933-9ad1-6f34bb5e188e  c7402157-ae44-45cc-b6a7-b348d5dbd417   \n",
       "3  000d8c91-e6a8-4404-bf8b-4951ed8ca1f2  2ea0ca2a-77fc-4447-b57c-62a6cb4d75a1   \n",
       "4  0015acc2-484c-491a-b455-0963835a31dd  ed1a5b13-3dc5-4212-b989-f59258b4410e   \n",
       "\n",
       "   patient_id  clinic_id appointment_date  \n",
       "0      158184          2       2022-12-22  \n",
       "1      112887          2       2022-06-02  \n",
       "2      141451          2       2022-10-18  \n",
       "3       37516          1       2022-01-06  \n",
       "4      141833          2       2022-10-14  "
      ]
     },
     "execution_count": 223,
     "metadata": {},
     "output_type": "execute_result"
    }
   ],
   "source": [
    "import pandas as pd\n",
    "import matplotlib.pyplot as plt\n",
    "import seaborn as sns\n",
    "from datetime import datetime\n",
    "\n",
    "# Specify the path to your CSV file\n",
    "appointments_file_path = 'p21_bi_intern_test_appointments (1).csv'\n",
    "revenues_file_path = 'p21_bi_intern_test_revenues.csv'\n",
    "\n",
    "# Read the CSV file into a DataFrame\n",
    "df_appointments = pd.read_csv(appointments_file_path)\n",
    "df_revenues = pd.read_csv(revenues_file_path)\n",
    "\n",
    "# Display the DataFrame appointments first rows\n",
    "df_appointments.head()\n",
    "\n",
    "\n",
    "\n",
    "\n",
    "\n",
    "\n"
   ]
  },
  {
   "cell_type": "code",
   "execution_count": null,
   "metadata": {},
   "outputs": [
    {
     "data": {
      "text/html": [
       "<div>\n",
       "<style scoped>\n",
       "    .dataframe tbody tr th:only-of-type {\n",
       "        vertical-align: middle;\n",
       "    }\n",
       "\n",
       "    .dataframe tbody tr th {\n",
       "        vertical-align: top;\n",
       "    }\n",
       "\n",
       "    .dataframe thead th {\n",
       "        text-align: right;\n",
       "    }\n",
       "</style>\n",
       "<table border=\"1\" class=\"dataframe\">\n",
       "  <thead>\n",
       "    <tr style=\"text-align: right;\">\n",
       "      <th></th>\n",
       "      <th>appointment_id</th>\n",
       "      <th>revenues</th>\n",
       "    </tr>\n",
       "  </thead>\n",
       "  <tbody>\n",
       "    <tr>\n",
       "      <th>0</th>\n",
       "      <td>68339e8c-c708-4042-ba21-263838e0487b</td>\n",
       "      <td>NaN</td>\n",
       "    </tr>\n",
       "    <tr>\n",
       "      <th>1</th>\n",
       "      <td>270bd629-028b-45b2-86a1-af8de97a7fd0</td>\n",
       "      <td>54.17</td>\n",
       "    </tr>\n",
       "    <tr>\n",
       "      <th>2</th>\n",
       "      <td>85c0b7cf-6e50-4683-88c4-9d6ea30f6500</td>\n",
       "      <td>20.67</td>\n",
       "    </tr>\n",
       "    <tr>\n",
       "      <th>3</th>\n",
       "      <td>4333637e-b13a-41b8-a0b6-d43ce4c7c761</td>\n",
       "      <td>35.69</td>\n",
       "    </tr>\n",
       "    <tr>\n",
       "      <th>4</th>\n",
       "      <td>e526a6ac-eaf4-47bd-bead-1332fe3444e4</td>\n",
       "      <td>150.77</td>\n",
       "    </tr>\n",
       "  </tbody>\n",
       "</table>\n",
       "</div>"
      ],
      "text/plain": [
       "                         appointment_id  revenues\n",
       "0  68339e8c-c708-4042-ba21-263838e0487b       NaN\n",
       "1  270bd629-028b-45b2-86a1-af8de97a7fd0     54.17\n",
       "2  85c0b7cf-6e50-4683-88c4-9d6ea30f6500     20.67\n",
       "3  4333637e-b13a-41b8-a0b6-d43ce4c7c761     35.69\n",
       "4  e526a6ac-eaf4-47bd-bead-1332fe3444e4    150.77"
      ]
     },
     "execution_count": 224,
     "metadata": {},
     "output_type": "execute_result"
    }
   ],
   "source": [
    "# Display the DataFrame revenues first rows\n",
    "df_revenues.head()"
   ]
  },
  {
   "cell_type": "code",
   "execution_count": null,
   "metadata": {},
   "outputs": [],
   "source": [
    "# Perform an inner join based on the 'appointment_id' column\n",
    "merged_df = pd.merge(df_appointments, df_revenues, on='appointment_id', how='inner')\n"
   ]
  },
  {
   "cell_type": "code",
   "execution_count": null,
   "metadata": {},
   "outputs": [
    {
     "data": {
      "text/html": [
       "<div>\n",
       "<style scoped>\n",
       "    .dataframe tbody tr th:only-of-type {\n",
       "        vertical-align: middle;\n",
       "    }\n",
       "\n",
       "    .dataframe tbody tr th {\n",
       "        vertical-align: top;\n",
       "    }\n",
       "\n",
       "    .dataframe thead th {\n",
       "        text-align: right;\n",
       "    }\n",
       "</style>\n",
       "<table border=\"1\" class=\"dataframe\">\n",
       "  <thead>\n",
       "    <tr style=\"text-align: right;\">\n",
       "      <th></th>\n",
       "      <th>appointment_id</th>\n",
       "      <th>practitioner_id</th>\n",
       "      <th>patient_id</th>\n",
       "      <th>clinic_id</th>\n",
       "      <th>appointment_date</th>\n",
       "      <th>revenues</th>\n",
       "    </tr>\n",
       "  </thead>\n",
       "  <tbody>\n",
       "    <tr>\n",
       "      <th>0</th>\n",
       "      <td>0004df0d-3df6-42be-9d68-b646a42a44bb</td>\n",
       "      <td>c7402157-ae44-45cc-b6a7-b348d5dbd417</td>\n",
       "      <td>158184</td>\n",
       "      <td>2</td>\n",
       "      <td>2022-12-22</td>\n",
       "      <td>299.17</td>\n",
       "    </tr>\n",
       "    <tr>\n",
       "      <th>1</th>\n",
       "      <td>000a978e-f134-47b3-ab9e-4f56084be38e</td>\n",
       "      <td>3ca4793d-065e-4112-b023-d1122a2a4b44</td>\n",
       "      <td>112887</td>\n",
       "      <td>2</td>\n",
       "      <td>2022-06-02</td>\n",
       "      <td>124.51</td>\n",
       "    </tr>\n",
       "    <tr>\n",
       "      <th>2</th>\n",
       "      <td>000c1615-0980-4933-9ad1-6f34bb5e188e</td>\n",
       "      <td>c7402157-ae44-45cc-b6a7-b348d5dbd417</td>\n",
       "      <td>141451</td>\n",
       "      <td>2</td>\n",
       "      <td>2022-10-18</td>\n",
       "      <td>85.31</td>\n",
       "    </tr>\n",
       "    <tr>\n",
       "      <th>3</th>\n",
       "      <td>000d8c91-e6a8-4404-bf8b-4951ed8ca1f2</td>\n",
       "      <td>2ea0ca2a-77fc-4447-b57c-62a6cb4d75a1</td>\n",
       "      <td>37516</td>\n",
       "      <td>1</td>\n",
       "      <td>2022-01-06</td>\n",
       "      <td>116.40</td>\n",
       "    </tr>\n",
       "    <tr>\n",
       "      <th>4</th>\n",
       "      <td>0015acc2-484c-491a-b455-0963835a31dd</td>\n",
       "      <td>ed1a5b13-3dc5-4212-b989-f59258b4410e</td>\n",
       "      <td>141833</td>\n",
       "      <td>2</td>\n",
       "      <td>2022-10-14</td>\n",
       "      <td>299.70</td>\n",
       "    </tr>\n",
       "  </tbody>\n",
       "</table>\n",
       "</div>"
      ],
      "text/plain": [
       "                         appointment_id                       practitioner_id  \\\n",
       "0  0004df0d-3df6-42be-9d68-b646a42a44bb  c7402157-ae44-45cc-b6a7-b348d5dbd417   \n",
       "1  000a978e-f134-47b3-ab9e-4f56084be38e  3ca4793d-065e-4112-b023-d1122a2a4b44   \n",
       "2  000c1615-0980-4933-9ad1-6f34bb5e188e  c7402157-ae44-45cc-b6a7-b348d5dbd417   \n",
       "3  000d8c91-e6a8-4404-bf8b-4951ed8ca1f2  2ea0ca2a-77fc-4447-b57c-62a6cb4d75a1   \n",
       "4  0015acc2-484c-491a-b455-0963835a31dd  ed1a5b13-3dc5-4212-b989-f59258b4410e   \n",
       "\n",
       "   patient_id  clinic_id appointment_date  revenues  \n",
       "0      158184          2       2022-12-22    299.17  \n",
       "1      112887          2       2022-06-02    124.51  \n",
       "2      141451          2       2022-10-18     85.31  \n",
       "3       37516          1       2022-01-06    116.40  \n",
       "4      141833          2       2022-10-14    299.70  "
      ]
     },
     "execution_count": 226,
     "metadata": {},
     "output_type": "execute_result"
    }
   ],
   "source": [
    "# Display the merged df first rows\n",
    "merged_df.head()"
   ]
  },
  {
   "cell_type": "code",
   "execution_count": null,
   "metadata": {},
   "outputs": [
    {
     "data": {
      "text/plain": [
       "(11015, 6)"
      ]
     },
     "execution_count": 227,
     "metadata": {},
     "output_type": "execute_result"
    }
   ],
   "source": [
    "# Dataset total of rows and columns\n",
    "merged_df.shape"
   ]
  },
  {
   "cell_type": "code",
   "execution_count": null,
   "metadata": {},
   "outputs": [
    {
     "name": "stdout",
     "output_type": "stream",
     "text": [
      "<class 'pandas.core.frame.DataFrame'>\n",
      "RangeIndex: 11015 entries, 0 to 11014\n",
      "Data columns (total 6 columns):\n",
      " #   Column            Non-Null Count  Dtype  \n",
      "---  ------            --------------  -----  \n",
      " 0   appointment_id    11015 non-null  object \n",
      " 1   practitioner_id   11015 non-null  object \n",
      " 2   patient_id        11015 non-null  int64  \n",
      " 3   clinic_id         11015 non-null  int64  \n",
      " 4   appointment_date  11015 non-null  object \n",
      " 5   revenues          10902 non-null  float64\n",
      "dtypes: float64(1), int64(2), object(3)\n",
      "memory usage: 516.5+ KB\n"
     ]
    }
   ],
   "source": [
    "# Check columns info\n",
    "merged_df.info()"
   ]
  },
  {
   "cell_type": "code",
   "execution_count": null,
   "metadata": {},
   "outputs": [],
   "source": [
    "# Convert the 'appointment_date' to datetime\n",
    "merged_df['appointment_date'] = pd.to_datetime(merged_df['appointment_date'], format='%Y-%m-%d')"
   ]
  },
  {
   "cell_type": "code",
   "execution_count": null,
   "metadata": {},
   "outputs": [
    {
     "name": "stdout",
     "output_type": "stream",
     "text": [
      "<class 'pandas.core.frame.DataFrame'>\n",
      "RangeIndex: 11015 entries, 0 to 11014\n",
      "Data columns (total 6 columns):\n",
      " #   Column            Non-Null Count  Dtype         \n",
      "---  ------            --------------  -----         \n",
      " 0   appointment_id    11015 non-null  object        \n",
      " 1   practitioner_id   11015 non-null  object        \n",
      " 2   patient_id        11015 non-null  int64         \n",
      " 3   clinic_id         11015 non-null  int64         \n",
      " 4   appointment_date  11015 non-null  datetime64[ns]\n",
      " 5   revenues          10902 non-null  float64       \n",
      "dtypes: datetime64[ns](1), float64(1), int64(2), object(2)\n",
      "memory usage: 516.5+ KB\n"
     ]
    }
   ],
   "source": [
    "# Check columns info\n",
    "merged_df.info()"
   ]
  },
  {
   "cell_type": "code",
   "execution_count": null,
   "metadata": {},
   "outputs": [
    {
     "data": {
      "text/html": [
       "<div>\n",
       "<style scoped>\n",
       "    .dataframe tbody tr th:only-of-type {\n",
       "        vertical-align: middle;\n",
       "    }\n",
       "\n",
       "    .dataframe tbody tr th {\n",
       "        vertical-align: top;\n",
       "    }\n",
       "\n",
       "    .dataframe thead th {\n",
       "        text-align: right;\n",
       "    }\n",
       "</style>\n",
       "<table border=\"1\" class=\"dataframe\">\n",
       "  <thead>\n",
       "    <tr style=\"text-align: right;\">\n",
       "      <th></th>\n",
       "      <th>patient_id</th>\n",
       "      <th>clinic_id</th>\n",
       "      <th>appointment_date</th>\n",
       "      <th>revenues</th>\n",
       "    </tr>\n",
       "  </thead>\n",
       "  <tbody>\n",
       "    <tr>\n",
       "      <th>count</th>\n",
       "      <td>11015.000000</td>\n",
       "      <td>11015.000000</td>\n",
       "      <td>11015</td>\n",
       "      <td>10902.000000</td>\n",
       "    </tr>\n",
       "    <tr>\n",
       "      <th>mean</th>\n",
       "      <td>75955.592828</td>\n",
       "      <td>1.515842</td>\n",
       "      <td>2022-07-20 14:32:37.694053632</td>\n",
       "      <td>174.671997</td>\n",
       "    </tr>\n",
       "    <tr>\n",
       "      <th>min</th>\n",
       "      <td>18069.000000</td>\n",
       "      <td>1.000000</td>\n",
       "      <td>2022-01-01 00:00:00</td>\n",
       "      <td>0.800000</td>\n",
       "    </tr>\n",
       "    <tr>\n",
       "      <th>25%</th>\n",
       "      <td>41707.000000</td>\n",
       "      <td>1.000000</td>\n",
       "      <td>2022-04-21 00:00:00</td>\n",
       "      <td>32.890000</td>\n",
       "    </tr>\n",
       "    <tr>\n",
       "      <th>50%</th>\n",
       "      <td>68319.000000</td>\n",
       "      <td>2.000000</td>\n",
       "      <td>2022-08-01 00:00:00</td>\n",
       "      <td>76.900000</td>\n",
       "    </tr>\n",
       "    <tr>\n",
       "      <th>75%</th>\n",
       "      <td>113273.000000</td>\n",
       "      <td>2.000000</td>\n",
       "      <td>2022-10-24 00:00:00</td>\n",
       "      <td>179.320000</td>\n",
       "    </tr>\n",
       "    <tr>\n",
       "      <th>max</th>\n",
       "      <td>160196.000000</td>\n",
       "      <td>2.000000</td>\n",
       "      <td>2022-12-31 00:00:00</td>\n",
       "      <td>15082.980000</td>\n",
       "    </tr>\n",
       "    <tr>\n",
       "      <th>std</th>\n",
       "      <td>41118.267892</td>\n",
       "      <td>0.499772</td>\n",
       "      <td>NaN</td>\n",
       "      <td>440.630226</td>\n",
       "    </tr>\n",
       "  </tbody>\n",
       "</table>\n",
       "</div>"
      ],
      "text/plain": [
       "          patient_id     clinic_id               appointment_date  \\\n",
       "count   11015.000000  11015.000000                          11015   \n",
       "mean    75955.592828      1.515842  2022-07-20 14:32:37.694053632   \n",
       "min     18069.000000      1.000000            2022-01-01 00:00:00   \n",
       "25%     41707.000000      1.000000            2022-04-21 00:00:00   \n",
       "50%     68319.000000      2.000000            2022-08-01 00:00:00   \n",
       "75%    113273.000000      2.000000            2022-10-24 00:00:00   \n",
       "max    160196.000000      2.000000            2022-12-31 00:00:00   \n",
       "std     41118.267892      0.499772                            NaN   \n",
       "\n",
       "           revenues  \n",
       "count  10902.000000  \n",
       "mean     174.671997  \n",
       "min        0.800000  \n",
       "25%       32.890000  \n",
       "50%       76.900000  \n",
       "75%      179.320000  \n",
       "max    15082.980000  \n",
       "std      440.630226  "
      ]
     },
     "execution_count": 231,
     "metadata": {},
     "output_type": "execute_result"
    }
   ],
   "source": [
    "# Check dataset statistics\n",
    "merged_df.describe()"
   ]
  },
  {
   "cell_type": "code",
   "execution_count": null,
   "metadata": {},
   "outputs": [
    {
     "data": {
      "text/plain": [
       "appointment_id        0\n",
       "practitioner_id       0\n",
       "patient_id            0\n",
       "clinic_id             0\n",
       "appointment_date      0\n",
       "revenues            113\n",
       "dtype: int64"
      ]
     },
     "execution_count": 232,
     "metadata": {},
     "output_type": "execute_result"
    }
   ],
   "source": [
    "# Check if there is null values in all columns\n",
    "merged_df.isnull().sum()"
   ]
  },
  {
   "cell_type": "code",
   "execution_count": null,
   "metadata": {},
   "outputs": [],
   "source": [
    "# Create a new column for the year\n",
    "merged_df['year'] = merged_df['appointment_date'].dt.year\n",
    "\n",
    "# Create a new column for the month\n",
    "merged_df['month'] = merged_df['appointment_date'].dt.month\n",
    "\n",
    "# Create a new column for the day\n",
    "merged_df['day'] = merged_df['appointment_date'].dt.day"
   ]
  },
  {
   "cell_type": "code",
   "execution_count": null,
   "metadata": {},
   "outputs": [
    {
     "data": {
      "text/html": [
       "<div>\n",
       "<style scoped>\n",
       "    .dataframe tbody tr th:only-of-type {\n",
       "        vertical-align: middle;\n",
       "    }\n",
       "\n",
       "    .dataframe tbody tr th {\n",
       "        vertical-align: top;\n",
       "    }\n",
       "\n",
       "    .dataframe thead th {\n",
       "        text-align: right;\n",
       "    }\n",
       "</style>\n",
       "<table border=\"1\" class=\"dataframe\">\n",
       "  <thead>\n",
       "    <tr style=\"text-align: right;\">\n",
       "      <th></th>\n",
       "      <th>appointment_id</th>\n",
       "      <th>practitioner_id</th>\n",
       "      <th>patient_id</th>\n",
       "      <th>clinic_id</th>\n",
       "      <th>appointment_date</th>\n",
       "      <th>revenues</th>\n",
       "      <th>year</th>\n",
       "      <th>month</th>\n",
       "      <th>day</th>\n",
       "    </tr>\n",
       "  </thead>\n",
       "  <tbody>\n",
       "    <tr>\n",
       "      <th>0</th>\n",
       "      <td>0004df0d-3df6-42be-9d68-b646a42a44bb</td>\n",
       "      <td>c7402157-ae44-45cc-b6a7-b348d5dbd417</td>\n",
       "      <td>158184</td>\n",
       "      <td>2</td>\n",
       "      <td>2022-12-22</td>\n",
       "      <td>299.17</td>\n",
       "      <td>2022</td>\n",
       "      <td>12</td>\n",
       "      <td>22</td>\n",
       "    </tr>\n",
       "    <tr>\n",
       "      <th>1</th>\n",
       "      <td>000a978e-f134-47b3-ab9e-4f56084be38e</td>\n",
       "      <td>3ca4793d-065e-4112-b023-d1122a2a4b44</td>\n",
       "      <td>112887</td>\n",
       "      <td>2</td>\n",
       "      <td>2022-06-02</td>\n",
       "      <td>124.51</td>\n",
       "      <td>2022</td>\n",
       "      <td>6</td>\n",
       "      <td>2</td>\n",
       "    </tr>\n",
       "    <tr>\n",
       "      <th>2</th>\n",
       "      <td>000c1615-0980-4933-9ad1-6f34bb5e188e</td>\n",
       "      <td>c7402157-ae44-45cc-b6a7-b348d5dbd417</td>\n",
       "      <td>141451</td>\n",
       "      <td>2</td>\n",
       "      <td>2022-10-18</td>\n",
       "      <td>85.31</td>\n",
       "      <td>2022</td>\n",
       "      <td>10</td>\n",
       "      <td>18</td>\n",
       "    </tr>\n",
       "    <tr>\n",
       "      <th>3</th>\n",
       "      <td>000d8c91-e6a8-4404-bf8b-4951ed8ca1f2</td>\n",
       "      <td>2ea0ca2a-77fc-4447-b57c-62a6cb4d75a1</td>\n",
       "      <td>37516</td>\n",
       "      <td>1</td>\n",
       "      <td>2022-01-06</td>\n",
       "      <td>116.40</td>\n",
       "      <td>2022</td>\n",
       "      <td>1</td>\n",
       "      <td>6</td>\n",
       "    </tr>\n",
       "    <tr>\n",
       "      <th>4</th>\n",
       "      <td>0015acc2-484c-491a-b455-0963835a31dd</td>\n",
       "      <td>ed1a5b13-3dc5-4212-b989-f59258b4410e</td>\n",
       "      <td>141833</td>\n",
       "      <td>2</td>\n",
       "      <td>2022-10-14</td>\n",
       "      <td>299.70</td>\n",
       "      <td>2022</td>\n",
       "      <td>10</td>\n",
       "      <td>14</td>\n",
       "    </tr>\n",
       "  </tbody>\n",
       "</table>\n",
       "</div>"
      ],
      "text/plain": [
       "                         appointment_id                       practitioner_id  \\\n",
       "0  0004df0d-3df6-42be-9d68-b646a42a44bb  c7402157-ae44-45cc-b6a7-b348d5dbd417   \n",
       "1  000a978e-f134-47b3-ab9e-4f56084be38e  3ca4793d-065e-4112-b023-d1122a2a4b44   \n",
       "2  000c1615-0980-4933-9ad1-6f34bb5e188e  c7402157-ae44-45cc-b6a7-b348d5dbd417   \n",
       "3  000d8c91-e6a8-4404-bf8b-4951ed8ca1f2  2ea0ca2a-77fc-4447-b57c-62a6cb4d75a1   \n",
       "4  0015acc2-484c-491a-b455-0963835a31dd  ed1a5b13-3dc5-4212-b989-f59258b4410e   \n",
       "\n",
       "   patient_id  clinic_id appointment_date  revenues  year  month  day  \n",
       "0      158184          2       2022-12-22    299.17  2022     12   22  \n",
       "1      112887          2       2022-06-02    124.51  2022      6    2  \n",
       "2      141451          2       2022-10-18     85.31  2022     10   18  \n",
       "3       37516          1       2022-01-06    116.40  2022      1    6  \n",
       "4      141833          2       2022-10-14    299.70  2022     10   14  "
      ]
     },
     "execution_count": 234,
     "metadata": {},
     "output_type": "execute_result"
    }
   ],
   "source": [
    "# Check merged dataset first rows with new columns year and month\n",
    "merged_df.head()"
   ]
  },
  {
   "cell_type": "code",
   "execution_count": null,
   "metadata": {},
   "outputs": [
    {
     "name": "stdout",
     "output_type": "stream",
     "text": [
      "<class 'pandas.core.frame.DataFrame'>\n",
      "RangeIndex: 11015 entries, 0 to 11014\n",
      "Data columns (total 9 columns):\n",
      " #   Column            Non-Null Count  Dtype         \n",
      "---  ------            --------------  -----         \n",
      " 0   appointment_id    11015 non-null  object        \n",
      " 1   practitioner_id   11015 non-null  object        \n",
      " 2   patient_id        11015 non-null  int64         \n",
      " 3   clinic_id         11015 non-null  int64         \n",
      " 4   appointment_date  11015 non-null  datetime64[ns]\n",
      " 5   revenues          10902 non-null  float64       \n",
      " 6   year              11015 non-null  int32         \n",
      " 7   month             11015 non-null  int32         \n",
      " 8   day               11015 non-null  int32         \n",
      "dtypes: datetime64[ns](1), float64(1), int32(3), int64(2), object(2)\n",
      "memory usage: 645.5+ KB\n"
     ]
    }
   ],
   "source": [
    "merged_df.info()"
   ]
  },
  {
   "cell_type": "code",
   "execution_count": null,
   "metadata": {},
   "outputs": [
    {
     "data": {
      "text/plain": [
       "1904274.11"
      ]
     },
     "execution_count": 236,
     "metadata": {},
     "output_type": "execute_result"
    }
   ],
   "source": [
    "# Existing clinics revenue in 2022\n",
    "existing_clinics_2022_revenue = round(merged_df['revenues'].sum(), 2)\n",
    "existing_clinics_2022_revenue"
   ]
  },
  {
   "cell_type": "code",
   "execution_count": null,
   "metadata": {},
   "outputs": [
    {
     "data": {
      "text/html": [
       "<div>\n",
       "<style scoped>\n",
       "    .dataframe tbody tr th:only-of-type {\n",
       "        vertical-align: middle;\n",
       "    }\n",
       "\n",
       "    .dataframe tbody tr th {\n",
       "        vertical-align: top;\n",
       "    }\n",
       "\n",
       "    .dataframe thead th {\n",
       "        text-align: right;\n",
       "    }\n",
       "</style>\n",
       "<table border=\"1\" class=\"dataframe\">\n",
       "  <thead>\n",
       "    <tr style=\"text-align: right;\">\n",
       "      <th></th>\n",
       "      <th>month</th>\n",
       "      <th>revenues</th>\n",
       "    </tr>\n",
       "  </thead>\n",
       "  <tbody>\n",
       "    <tr>\n",
       "      <th>0</th>\n",
       "      <td>1</td>\n",
       "      <td>98149.780</td>\n",
       "    </tr>\n",
       "    <tr>\n",
       "      <th>1</th>\n",
       "      <td>2</td>\n",
       "      <td>125227.635</td>\n",
       "    </tr>\n",
       "    <tr>\n",
       "      <th>2</th>\n",
       "      <td>3</td>\n",
       "      <td>151705.875</td>\n",
       "    </tr>\n",
       "    <tr>\n",
       "      <th>3</th>\n",
       "      <td>4</td>\n",
       "      <td>146936.540</td>\n",
       "    </tr>\n",
       "    <tr>\n",
       "      <th>4</th>\n",
       "      <td>5</td>\n",
       "      <td>144192.080</td>\n",
       "    </tr>\n",
       "    <tr>\n",
       "      <th>5</th>\n",
       "      <td>6</td>\n",
       "      <td>160837.670</td>\n",
       "    </tr>\n",
       "    <tr>\n",
       "      <th>6</th>\n",
       "      <td>7</td>\n",
       "      <td>181325.570</td>\n",
       "    </tr>\n",
       "    <tr>\n",
       "      <th>7</th>\n",
       "      <td>8</td>\n",
       "      <td>137464.565</td>\n",
       "    </tr>\n",
       "    <tr>\n",
       "      <th>8</th>\n",
       "      <td>9</td>\n",
       "      <td>184714.875</td>\n",
       "    </tr>\n",
       "    <tr>\n",
       "      <th>9</th>\n",
       "      <td>10</td>\n",
       "      <td>181327.730</td>\n",
       "    </tr>\n",
       "    <tr>\n",
       "      <th>10</th>\n",
       "      <td>11</td>\n",
       "      <td>193002.820</td>\n",
       "    </tr>\n",
       "    <tr>\n",
       "      <th>11</th>\n",
       "      <td>12</td>\n",
       "      <td>199388.970</td>\n",
       "    </tr>\n",
       "  </tbody>\n",
       "</table>\n",
       "</div>"
      ],
      "text/plain": [
       "    month    revenues\n",
       "0       1   98149.780\n",
       "1       2  125227.635\n",
       "2       3  151705.875\n",
       "3       4  146936.540\n",
       "4       5  144192.080\n",
       "5       6  160837.670\n",
       "6       7  181325.570\n",
       "7       8  137464.565\n",
       "8       9  184714.875\n",
       "9      10  181327.730\n",
       "10     11  193002.820\n",
       "11     12  199388.970"
      ]
     },
     "execution_count": 237,
     "metadata": {},
     "output_type": "execute_result"
    }
   ],
   "source": [
    "# Existing clinics revenue per month in 2022\n",
    "existing_clinics_monthly_revenue = merged_df.groupby('month')['revenues'].sum().reset_index()\n",
    "existing_clinics_monthly_revenue"
   ]
  },
  {
   "cell_type": "code",
   "execution_count": null,
   "metadata": {},
   "outputs": [
    {
     "data": {
      "text/plain": [
       "<Axes: xlabel='month', ylabel='revenues'>"
      ]
     },
     "execution_count": 238,
     "metadata": {},
     "output_type": "execute_result"
    },
    {
     "data": {
      "image/png": "[encoded data removed]",
      "text/plain": [
       "<Figure size 800x600 with 1 Axes>"
      ]
     },
     "metadata": {},
     "output_type": "display_data"
    }
   ],
   "source": [
    "# Existing clinics revenue per month in 2022\n",
    "fig_dims = (8, 6)\n",
    "fig, ax = plt.subplots(figsize=fig_dims)\n",
    "\n",
    "sns.barplot(x= 'month',\n",
    "            y= 'revenues',\n",
    "            data= existing_clinics_monthly_revenue)"
   ]
  },
  {
   "cell_type": "markdown",
   "metadata": {},
   "source": [
    "The above graph shows the months with the highest revenues are December and November, on the other hand the lowest are January and February."
   ]
  },
  {
   "cell_type": "code",
   "execution_count": null,
   "metadata": {},
   "outputs": [
    {
     "data": {
      "text/html": [
       "<div>\n",
       "<style scoped>\n",
       "    .dataframe tbody tr th:only-of-type {\n",
       "        vertical-align: middle;\n",
       "    }\n",
       "\n",
       "    .dataframe tbody tr th {\n",
       "        vertical-align: top;\n",
       "    }\n",
       "\n",
       "    .dataframe thead th {\n",
       "        text-align: right;\n",
       "    }\n",
       "</style>\n",
       "<table border=\"1\" class=\"dataframe\">\n",
       "  <thead>\n",
       "    <tr style=\"text-align: right;\">\n",
       "      <th></th>\n",
       "      <th>day</th>\n",
       "      <th>revenues</th>\n",
       "    </tr>\n",
       "  </thead>\n",
       "  <tbody>\n",
       "    <tr>\n",
       "      <th>0</th>\n",
       "      <td>1</td>\n",
       "      <td>61150.280</td>\n",
       "    </tr>\n",
       "    <tr>\n",
       "      <th>1</th>\n",
       "      <td>2</td>\n",
       "      <td>62564.105</td>\n",
       "    </tr>\n",
       "    <tr>\n",
       "      <th>2</th>\n",
       "      <td>3</td>\n",
       "      <td>50087.715</td>\n",
       "    </tr>\n",
       "    <tr>\n",
       "      <th>3</th>\n",
       "      <td>4</td>\n",
       "      <td>52740.260</td>\n",
       "    </tr>\n",
       "    <tr>\n",
       "      <th>4</th>\n",
       "      <td>5</td>\n",
       "      <td>44784.340</td>\n",
       "    </tr>\n",
       "    <tr>\n",
       "      <th>5</th>\n",
       "      <td>6</td>\n",
       "      <td>46950.300</td>\n",
       "    </tr>\n",
       "    <tr>\n",
       "      <th>6</th>\n",
       "      <td>7</td>\n",
       "      <td>67268.540</td>\n",
       "    </tr>\n",
       "    <tr>\n",
       "      <th>7</th>\n",
       "      <td>8</td>\n",
       "      <td>59237.525</td>\n",
       "    </tr>\n",
       "    <tr>\n",
       "      <th>8</th>\n",
       "      <td>9</td>\n",
       "      <td>63139.260</td>\n",
       "    </tr>\n",
       "    <tr>\n",
       "      <th>9</th>\n",
       "      <td>10</td>\n",
       "      <td>79151.940</td>\n",
       "    </tr>\n",
       "    <tr>\n",
       "      <th>10</th>\n",
       "      <td>11</td>\n",
       "      <td>62742.080</td>\n",
       "    </tr>\n",
       "    <tr>\n",
       "      <th>11</th>\n",
       "      <td>12</td>\n",
       "      <td>63518.400</td>\n",
       "    </tr>\n",
       "    <tr>\n",
       "      <th>12</th>\n",
       "      <td>13</td>\n",
       "      <td>61480.260</td>\n",
       "    </tr>\n",
       "    <tr>\n",
       "      <th>13</th>\n",
       "      <td>14</td>\n",
       "      <td>79738.070</td>\n",
       "    </tr>\n",
       "    <tr>\n",
       "      <th>14</th>\n",
       "      <td>15</td>\n",
       "      <td>61819.870</td>\n",
       "    </tr>\n",
       "    <tr>\n",
       "      <th>15</th>\n",
       "      <td>16</td>\n",
       "      <td>57372.885</td>\n",
       "    </tr>\n",
       "    <tr>\n",
       "      <th>16</th>\n",
       "      <td>17</td>\n",
       "      <td>71119.085</td>\n",
       "    </tr>\n",
       "    <tr>\n",
       "      <th>17</th>\n",
       "      <td>18</td>\n",
       "      <td>57497.835</td>\n",
       "    </tr>\n",
       "    <tr>\n",
       "      <th>18</th>\n",
       "      <td>19</td>\n",
       "      <td>61023.360</td>\n",
       "    </tr>\n",
       "    <tr>\n",
       "      <th>19</th>\n",
       "      <td>20</td>\n",
       "      <td>64409.840</td>\n",
       "    </tr>\n",
       "    <tr>\n",
       "      <th>20</th>\n",
       "      <td>21</td>\n",
       "      <td>71452.070</td>\n",
       "    </tr>\n",
       "    <tr>\n",
       "      <th>21</th>\n",
       "      <td>22</td>\n",
       "      <td>67591.760</td>\n",
       "    </tr>\n",
       "    <tr>\n",
       "      <th>22</th>\n",
       "      <td>23</td>\n",
       "      <td>63031.960</td>\n",
       "    </tr>\n",
       "    <tr>\n",
       "      <th>23</th>\n",
       "      <td>24</td>\n",
       "      <td>66272.625</td>\n",
       "    </tr>\n",
       "    <tr>\n",
       "      <th>24</th>\n",
       "      <td>25</td>\n",
       "      <td>64738.000</td>\n",
       "    </tr>\n",
       "    <tr>\n",
       "      <th>25</th>\n",
       "      <td>26</td>\n",
       "      <td>50923.605</td>\n",
       "    </tr>\n",
       "    <tr>\n",
       "      <th>26</th>\n",
       "      <td>27</td>\n",
       "      <td>69179.080</td>\n",
       "    </tr>\n",
       "    <tr>\n",
       "      <th>27</th>\n",
       "      <td>28</td>\n",
       "      <td>68714.060</td>\n",
       "    </tr>\n",
       "    <tr>\n",
       "      <th>28</th>\n",
       "      <td>29</td>\n",
       "      <td>65422.100</td>\n",
       "    </tr>\n",
       "    <tr>\n",
       "      <th>29</th>\n",
       "      <td>30</td>\n",
       "      <td>57128.360</td>\n",
       "    </tr>\n",
       "    <tr>\n",
       "      <th>30</th>\n",
       "      <td>31</td>\n",
       "      <td>32024.540</td>\n",
       "    </tr>\n",
       "  </tbody>\n",
       "</table>\n",
       "</div>"
      ],
      "text/plain": [
       "    day   revenues\n",
       "0     1  61150.280\n",
       "1     2  62564.105\n",
       "2     3  50087.715\n",
       "3     4  52740.260\n",
       "4     5  44784.340\n",
       "5     6  46950.300\n",
       "6     7  67268.540\n",
       "7     8  59237.525\n",
       "8     9  63139.260\n",
       "9    10  79151.940\n",
       "10   11  62742.080\n",
       "11   12  63518.400\n",
       "12   13  61480.260\n",
       "13   14  79738.070\n",
       "14   15  61819.870\n",
       "15   16  57372.885\n",
       "16   17  71119.085\n",
       "17   18  57497.835\n",
       "18   19  61023.360\n",
       "19   20  64409.840\n",
       "20   21  71452.070\n",
       "21   22  67591.760\n",
       "22   23  63031.960\n",
       "23   24  66272.625\n",
       "24   25  64738.000\n",
       "25   26  50923.605\n",
       "26   27  69179.080\n",
       "27   28  68714.060\n",
       "28   29  65422.100\n",
       "29   30  57128.360\n",
       "30   31  32024.540"
      ]
     },
     "execution_count": 239,
     "metadata": {},
     "output_type": "execute_result"
    }
   ],
   "source": [
    "# Existing clinics revenue per day in 2022\n",
    "existing_clinics_dayly_revenue = merged_df.groupby('day')['revenues'].sum().reset_index()\n",
    "existing_clinics_dayly_revenue"
   ]
  },
  {
   "cell_type": "code",
   "execution_count": null,
   "metadata": {},
   "outputs": [
    {
     "data": {
      "text/plain": [
       "<Axes: xlabel='day', ylabel='revenues'>"
      ]
     },
     "execution_count": 240,
     "metadata": {},
     "output_type": "execute_result"
    },
    {
     "data": {
      "image/png": "[encoded data removed]",
      "text/plain": [
       "<Figure size 800x600 with 1 Axes>"
      ]
     },
     "metadata": {},
     "output_type": "display_data"
    }
   ],
   "source": [
    "# Existing clinics revenue per day in 2022\n",
    "fig_dims = (8, 6)\n",
    "fig, ax = plt.subplots(figsize=fig_dims)\n",
    "\n",
    "sns.barplot(x= 'day',\n",
    "            y= 'revenues',\n",
    "            data= existing_clinics_dayly_revenue)"
   ]
  },
  {
   "cell_type": "markdown",
   "metadata": {},
   "source": [
    "The graph above shows that the days with the highest revenues are the 14th and 10th, while the lowest are the 31th, 5th and 6th."
   ]
  },
  {
   "cell_type": "code",
   "execution_count": null,
   "metadata": {},
   "outputs": [
    {
     "data": {
      "text/html": [
       "<div>\n",
       "<style scoped>\n",
       "    .dataframe tbody tr th:only-of-type {\n",
       "        vertical-align: middle;\n",
       "    }\n",
       "\n",
       "    .dataframe tbody tr th {\n",
       "        vertical-align: top;\n",
       "    }\n",
       "\n",
       "    .dataframe thead th {\n",
       "        text-align: right;\n",
       "    }\n",
       "</style>\n",
       "<table border=\"1\" class=\"dataframe\">\n",
       "  <thead>\n",
       "    <tr style=\"text-align: right;\">\n",
       "      <th></th>\n",
       "      <th>year</th>\n",
       "      <th>count</th>\n",
       "      <th>mean</th>\n",
       "    </tr>\n",
       "  </thead>\n",
       "  <tbody>\n",
       "    <tr>\n",
       "      <th>0</th>\n",
       "      <td>2022</td>\n",
       "      <td>10902</td>\n",
       "      <td>174.671997</td>\n",
       "    </tr>\n",
       "  </tbody>\n",
       "</table>\n",
       "</div>"
      ],
      "text/plain": [
       "   year  count        mean\n",
       "0  2022  10902  174.671997"
      ]
     },
     "execution_count": 241,
     "metadata": {},
     "output_type": "execute_result"
    }
   ],
   "source": [
    "# Average of appointment's revenues per year\n",
    "year_groups = merged_df.groupby(['year'])\n",
    "df_year_groups = year_groups['revenues'].agg(['count', 'mean'])\n",
    "df_year_groups.reset_index('year', inplace=True)\n",
    "df_year_groups"
   ]
  },
  {
   "cell_type": "code",
   "execution_count": null,
   "metadata": {},
   "outputs": [
    {
     "data": {
      "text/html": [
       "<div>\n",
       "<style scoped>\n",
       "    .dataframe tbody tr th:only-of-type {\n",
       "        vertical-align: middle;\n",
       "    }\n",
       "\n",
       "    .dataframe tbody tr th {\n",
       "        vertical-align: top;\n",
       "    }\n",
       "\n",
       "    .dataframe thead th {\n",
       "        text-align: right;\n",
       "    }\n",
       "</style>\n",
       "<table border=\"1\" class=\"dataframe\">\n",
       "  <thead>\n",
       "    <tr style=\"text-align: right;\">\n",
       "      <th></th>\n",
       "      <th>month</th>\n",
       "      <th>mean</th>\n",
       "    </tr>\n",
       "  </thead>\n",
       "  <tbody>\n",
       "    <tr>\n",
       "      <th>0</th>\n",
       "      <td>1</td>\n",
       "      <td>138.434104</td>\n",
       "    </tr>\n",
       "    <tr>\n",
       "      <th>1</th>\n",
       "      <td>2</td>\n",
       "      <td>165.426202</td>\n",
       "    </tr>\n",
       "    <tr>\n",
       "      <th>2</th>\n",
       "      <td>3</td>\n",
       "      <td>202.544559</td>\n",
       "    </tr>\n",
       "    <tr>\n",
       "      <th>3</th>\n",
       "      <td>4</td>\n",
       "      <td>180.511720</td>\n",
       "    </tr>\n",
       "    <tr>\n",
       "      <th>4</th>\n",
       "      <td>5</td>\n",
       "      <td>176.273936</td>\n",
       "    </tr>\n",
       "    <tr>\n",
       "      <th>5</th>\n",
       "      <td>6</td>\n",
       "      <td>227.171850</td>\n",
       "    </tr>\n",
       "    <tr>\n",
       "      <th>6</th>\n",
       "      <td>7</td>\n",
       "      <td>208.900426</td>\n",
       "    </tr>\n",
       "    <tr>\n",
       "      <th>7</th>\n",
       "      <td>8</td>\n",
       "      <td>157.102360</td>\n",
       "    </tr>\n",
       "    <tr>\n",
       "      <th>8</th>\n",
       "      <td>9</td>\n",
       "      <td>175.584482</td>\n",
       "    </tr>\n",
       "    <tr>\n",
       "      <th>9</th>\n",
       "      <td>10</td>\n",
       "      <td>158.780849</td>\n",
       "    </tr>\n",
       "    <tr>\n",
       "      <th>10</th>\n",
       "      <td>11</td>\n",
       "      <td>162.597152</td>\n",
       "    </tr>\n",
       "    <tr>\n",
       "      <th>11</th>\n",
       "      <td>12</td>\n",
       "      <td>163.032682</td>\n",
       "    </tr>\n",
       "  </tbody>\n",
       "</table>\n",
       "</div>"
      ],
      "text/plain": [
       "    month        mean\n",
       "0       1  138.434104\n",
       "1       2  165.426202\n",
       "2       3  202.544559\n",
       "3       4  180.511720\n",
       "4       5  176.273936\n",
       "5       6  227.171850\n",
       "6       7  208.900426\n",
       "7       8  157.102360\n",
       "8       9  175.584482\n",
       "9      10  158.780849\n",
       "10     11  162.597152\n",
       "11     12  163.032682"
      ]
     },
     "execution_count": 242,
     "metadata": {},
     "output_type": "execute_result"
    }
   ],
   "source": [
    "# Average of appointment's revenues per month\n",
    "month_groups = merged_df.groupby(['month'])\n",
    "df_month_groups = month_groups['revenues'].agg(['mean'])\n",
    "df_month_groups.reset_index('month', inplace=True)\n",
    "df_month_groups"
   ]
  },
  {
   "cell_type": "code",
   "execution_count": null,
   "metadata": {},
   "outputs": [
    {
     "data": {
      "text/plain": [
       "<Axes: xlabel='month', ylabel='mean'>"
      ]
     },
     "execution_count": 243,
     "metadata": {},
     "output_type": "execute_result"
    },
    {
     "data": {
      "image/png": "[encoded data removed]",
      "text/plain": [
       "<Figure size 800x600 with 1 Axes>"
      ]
     },
     "metadata": {},
     "output_type": "display_data"
    }
   ],
   "source": [
    "# Average of appointment's revenues per month\n",
    "fig_dims = (8, 6)\n",
    "fig, ax = plt.subplots(figsize=fig_dims)\n",
    "\n",
    "sns.barplot(x= 'month',\n",
    "            y= 'mean',\n",
    "            data= df_month_groups)"
   ]
  },
  {
   "cell_type": "markdown",
   "metadata": {},
   "source": [
    "The above graph shows the month with the highest revenue average is June, while the lowest is January."
   ]
  },
  {
   "cell_type": "code",
   "execution_count": null,
   "metadata": {},
   "outputs": [
    {
     "data": {
      "text/html": [
       "<div>\n",
       "<style scoped>\n",
       "    .dataframe tbody tr th:only-of-type {\n",
       "        vertical-align: middle;\n",
       "    }\n",
       "\n",
       "    .dataframe tbody tr th {\n",
       "        vertical-align: top;\n",
       "    }\n",
       "\n",
       "    .dataframe thead th {\n",
       "        text-align: right;\n",
       "    }\n",
       "</style>\n",
       "<table border=\"1\" class=\"dataframe\">\n",
       "  <thead>\n",
       "    <tr style=\"text-align: right;\">\n",
       "      <th></th>\n",
       "      <th>day</th>\n",
       "      <th>mean</th>\n",
       "    </tr>\n",
       "  </thead>\n",
       "  <tbody>\n",
       "    <tr>\n",
       "      <th>0</th>\n",
       "      <td>1</td>\n",
       "      <td>189.907702</td>\n",
       "    </tr>\n",
       "    <tr>\n",
       "      <th>1</th>\n",
       "      <td>2</td>\n",
       "      <td>196.742469</td>\n",
       "    </tr>\n",
       "    <tr>\n",
       "      <th>2</th>\n",
       "      <td>3</td>\n",
       "      <td>165.305990</td>\n",
       "    </tr>\n",
       "    <tr>\n",
       "      <th>3</th>\n",
       "      <td>4</td>\n",
       "      <td>161.285199</td>\n",
       "    </tr>\n",
       "    <tr>\n",
       "      <th>4</th>\n",
       "      <td>5</td>\n",
       "      <td>147.316908</td>\n",
       "    </tr>\n",
       "    <tr>\n",
       "      <th>5</th>\n",
       "      <td>6</td>\n",
       "      <td>150.000958</td>\n",
       "    </tr>\n",
       "    <tr>\n",
       "      <th>6</th>\n",
       "      <td>7</td>\n",
       "      <td>158.278918</td>\n",
       "    </tr>\n",
       "    <tr>\n",
       "      <th>7</th>\n",
       "      <td>8</td>\n",
       "      <td>156.299538</td>\n",
       "    </tr>\n",
       "    <tr>\n",
       "      <th>8</th>\n",
       "      <td>9</td>\n",
       "      <td>193.086422</td>\n",
       "    </tr>\n",
       "    <tr>\n",
       "      <th>9</th>\n",
       "      <td>10</td>\n",
       "      <td>191.651186</td>\n",
       "    </tr>\n",
       "    <tr>\n",
       "      <th>10</th>\n",
       "      <td>11</td>\n",
       "      <td>174.769025</td>\n",
       "    </tr>\n",
       "    <tr>\n",
       "      <th>11</th>\n",
       "      <td>12</td>\n",
       "      <td>162.036735</td>\n",
       "    </tr>\n",
       "    <tr>\n",
       "      <th>12</th>\n",
       "      <td>13</td>\n",
       "      <td>180.294018</td>\n",
       "    </tr>\n",
       "    <tr>\n",
       "      <th>13</th>\n",
       "      <td>14</td>\n",
       "      <td>168.579429</td>\n",
       "    </tr>\n",
       "    <tr>\n",
       "      <th>14</th>\n",
       "      <td>15</td>\n",
       "      <td>151.519289</td>\n",
       "    </tr>\n",
       "    <tr>\n",
       "      <th>15</th>\n",
       "      <td>16</td>\n",
       "      <td>157.617816</td>\n",
       "    </tr>\n",
       "    <tr>\n",
       "      <th>16</th>\n",
       "      <td>17</td>\n",
       "      <td>185.205951</td>\n",
       "    </tr>\n",
       "    <tr>\n",
       "      <th>17</th>\n",
       "      <td>18</td>\n",
       "      <td>163.811496</td>\n",
       "    </tr>\n",
       "    <tr>\n",
       "      <th>18</th>\n",
       "      <td>19</td>\n",
       "      <td>172.382373</td>\n",
       "    </tr>\n",
       "    <tr>\n",
       "      <th>19</th>\n",
       "      <td>20</td>\n",
       "      <td>187.783790</td>\n",
       "    </tr>\n",
       "    <tr>\n",
       "      <th>20</th>\n",
       "      <td>21</td>\n",
       "      <td>170.937967</td>\n",
       "    </tr>\n",
       "    <tr>\n",
       "      <th>21</th>\n",
       "      <td>22</td>\n",
       "      <td>183.673261</td>\n",
       "    </tr>\n",
       "    <tr>\n",
       "      <th>22</th>\n",
       "      <td>23</td>\n",
       "      <td>185.934985</td>\n",
       "    </tr>\n",
       "    <tr>\n",
       "      <th>23</th>\n",
       "      <td>24</td>\n",
       "      <td>206.456776</td>\n",
       "    </tr>\n",
       "    <tr>\n",
       "      <th>24</th>\n",
       "      <td>25</td>\n",
       "      <td>179.827778</td>\n",
       "    </tr>\n",
       "    <tr>\n",
       "      <th>25</th>\n",
       "      <td>26</td>\n",
       "      <td>178.679316</td>\n",
       "    </tr>\n",
       "    <tr>\n",
       "      <th>26</th>\n",
       "      <td>27</td>\n",
       "      <td>204.068083</td>\n",
       "    </tr>\n",
       "    <tr>\n",
       "      <th>27</th>\n",
       "      <td>28</td>\n",
       "      <td>167.595268</td>\n",
       "    </tr>\n",
       "    <tr>\n",
       "      <th>28</th>\n",
       "      <td>29</td>\n",
       "      <td>174.925401</td>\n",
       "    </tr>\n",
       "    <tr>\n",
       "      <th>29</th>\n",
       "      <td>30</td>\n",
       "      <td>187.922237</td>\n",
       "    </tr>\n",
       "    <tr>\n",
       "      <th>30</th>\n",
       "      <td>31</td>\n",
       "      <td>174.046413</td>\n",
       "    </tr>\n",
       "  </tbody>\n",
       "</table>\n",
       "</div>"
      ],
      "text/plain": [
       "    day        mean\n",
       "0     1  189.907702\n",
       "1     2  196.742469\n",
       "2     3  165.305990\n",
       "3     4  161.285199\n",
       "4     5  147.316908\n",
       "5     6  150.000958\n",
       "6     7  158.278918\n",
       "7     8  156.299538\n",
       "8     9  193.086422\n",
       "9    10  191.651186\n",
       "10   11  174.769025\n",
       "11   12  162.036735\n",
       "12   13  180.294018\n",
       "13   14  168.579429\n",
       "14   15  151.519289\n",
       "15   16  157.617816\n",
       "16   17  185.205951\n",
       "17   18  163.811496\n",
       "18   19  172.382373\n",
       "19   20  187.783790\n",
       "20   21  170.937967\n",
       "21   22  183.673261\n",
       "22   23  185.934985\n",
       "23   24  206.456776\n",
       "24   25  179.827778\n",
       "25   26  178.679316\n",
       "26   27  204.068083\n",
       "27   28  167.595268\n",
       "28   29  174.925401\n",
       "29   30  187.922237\n",
       "30   31  174.046413"
      ]
     },
     "execution_count": 244,
     "metadata": {},
     "output_type": "execute_result"
    }
   ],
   "source": [
    "# Average of appointment's revenues per day\n",
    "day_groups = merged_df.groupby(['day'])\n",
    "df_day_groups = day_groups['revenues'].agg(['mean'])\n",
    "df_day_groups.reset_index('day', inplace=True)\n",
    "df_day_groups"
   ]
  },
  {
   "cell_type": "code",
   "execution_count": null,
   "metadata": {},
   "outputs": [
    {
     "data": {
      "text/plain": [
       "<Axes: xlabel='day', ylabel='mean'>"
      ]
     },
     "execution_count": 245,
     "metadata": {},
     "output_type": "execute_result"
    },
    {
     "data": {
      "image/png": "[encoded data removed]",
      "text/plain": [
       "<Figure size 1000x800 with 1 Axes>"
      ]
     },
     "metadata": {},
     "output_type": "display_data"
    }
   ],
   "source": [
    "# Average of appointment's revenues per day\n",
    "fig_dims = (10, 8)\n",
    "fig, ax = plt.subplots(figsize=fig_dims)\n",
    "\n",
    "sns.barplot(x= 'day',\n",
    "            y= 'mean',\n",
    "            data= df_day_groups)"
   ]
  },
  {
   "cell_type": "markdown",
   "metadata": {},
   "source": [
    "The days with the highest revenue average are the 24th and the 27th, while the lowest are the 5th and 6th."
   ]
  },
  {
   "cell_type": "code",
   "execution_count": null,
   "metadata": {},
   "outputs": [
    {
     "data": {
      "text/html": [
       "<div>\n",
       "<style scoped>\n",
       "    .dataframe tbody tr th:only-of-type {\n",
       "        vertical-align: middle;\n",
       "    }\n",
       "\n",
       "    .dataframe tbody tr th {\n",
       "        vertical-align: top;\n",
       "    }\n",
       "\n",
       "    .dataframe thead th {\n",
       "        text-align: right;\n",
       "    }\n",
       "</style>\n",
       "<table border=\"1\" class=\"dataframe\">\n",
       "  <thead>\n",
       "    <tr style=\"text-align: right;\">\n",
       "      <th></th>\n",
       "      <th>month</th>\n",
       "      <th>count</th>\n",
       "    </tr>\n",
       "  </thead>\n",
       "  <tbody>\n",
       "    <tr>\n",
       "      <th>0</th>\n",
       "      <td>1</td>\n",
       "      <td>709</td>\n",
       "    </tr>\n",
       "    <tr>\n",
       "      <th>1</th>\n",
       "      <td>2</td>\n",
       "      <td>757</td>\n",
       "    </tr>\n",
       "    <tr>\n",
       "      <th>2</th>\n",
       "      <td>3</td>\n",
       "      <td>749</td>\n",
       "    </tr>\n",
       "    <tr>\n",
       "      <th>3</th>\n",
       "      <td>4</td>\n",
       "      <td>814</td>\n",
       "    </tr>\n",
       "    <tr>\n",
       "      <th>4</th>\n",
       "      <td>5</td>\n",
       "      <td>818</td>\n",
       "    </tr>\n",
       "    <tr>\n",
       "      <th>5</th>\n",
       "      <td>6</td>\n",
       "      <td>708</td>\n",
       "    </tr>\n",
       "    <tr>\n",
       "      <th>6</th>\n",
       "      <td>7</td>\n",
       "      <td>868</td>\n",
       "    </tr>\n",
       "    <tr>\n",
       "      <th>7</th>\n",
       "      <td>8</td>\n",
       "      <td>875</td>\n",
       "    </tr>\n",
       "    <tr>\n",
       "      <th>8</th>\n",
       "      <td>9</td>\n",
       "      <td>1052</td>\n",
       "    </tr>\n",
       "    <tr>\n",
       "      <th>9</th>\n",
       "      <td>10</td>\n",
       "      <td>1142</td>\n",
       "    </tr>\n",
       "    <tr>\n",
       "      <th>10</th>\n",
       "      <td>11</td>\n",
       "      <td>1187</td>\n",
       "    </tr>\n",
       "    <tr>\n",
       "      <th>11</th>\n",
       "      <td>12</td>\n",
       "      <td>1223</td>\n",
       "    </tr>\n",
       "  </tbody>\n",
       "</table>\n",
       "</div>"
      ],
      "text/plain": [
       "    month  count\n",
       "0       1    709\n",
       "1       2    757\n",
       "2       3    749\n",
       "3       4    814\n",
       "4       5    818\n",
       "5       6    708\n",
       "6       7    868\n",
       "7       8    875\n",
       "8       9   1052\n",
       "9      10   1142\n",
       "10     11   1187\n",
       "11     12   1223"
      ]
     },
     "execution_count": 246,
     "metadata": {},
     "output_type": "execute_result"
    }
   ],
   "source": [
    "# Count of appointments  per month\n",
    "month_groups = merged_df.groupby(['month'])\n",
    "df_month_groups = month_groups['revenues'].agg(['count'])\n",
    "df_month_groups.reset_index('month', inplace=True)\n",
    "df_month_groups"
   ]
  },
  {
   "cell_type": "code",
   "execution_count": null,
   "metadata": {},
   "outputs": [
    {
     "data": {
      "text/plain": [
       "<Axes: xlabel='month', ylabel='count'>"
      ]
     },
     "execution_count": 247,
     "metadata": {},
     "output_type": "execute_result"
    },
    {
     "data": {
      "image/png": "[encoded data removed]",
      "text/plain": [
       "<Figure size 800x600 with 1 Axes>"
      ]
     },
     "metadata": {},
     "output_type": "display_data"
    }
   ],
   "source": [
    "# Count of appointments  per month\n",
    "fig_dims = (8, 6)\n",
    "fig, ax = plt.subplots(figsize=fig_dims)\n",
    "\n",
    "sns.barplot(x= 'month',\n",
    "            y= 'count',\n",
    "            data= df_month_groups)"
   ]
  },
  {
   "cell_type": "markdown",
   "metadata": {},
   "source": [
    "The months with the most appointments are December and November, while the months with the least appointments are June and January."
   ]
  },
  {
   "cell_type": "code",
   "execution_count": null,
   "metadata": {},
   "outputs": [
    {
     "data": {
      "text/html": [
       "<div>\n",
       "<style scoped>\n",
       "    .dataframe tbody tr th:only-of-type {\n",
       "        vertical-align: middle;\n",
       "    }\n",
       "\n",
       "    .dataframe tbody tr th {\n",
       "        vertical-align: top;\n",
       "    }\n",
       "\n",
       "    .dataframe thead th {\n",
       "        text-align: right;\n",
       "    }\n",
       "</style>\n",
       "<table border=\"1\" class=\"dataframe\">\n",
       "  <thead>\n",
       "    <tr style=\"text-align: right;\">\n",
       "      <th></th>\n",
       "      <th>day</th>\n",
       "      <th>count</th>\n",
       "    </tr>\n",
       "  </thead>\n",
       "  <tbody>\n",
       "    <tr>\n",
       "      <th>0</th>\n",
       "      <td>1</td>\n",
       "      <td>325</td>\n",
       "    </tr>\n",
       "    <tr>\n",
       "      <th>1</th>\n",
       "      <td>2</td>\n",
       "      <td>325</td>\n",
       "    </tr>\n",
       "    <tr>\n",
       "      <th>2</th>\n",
       "      <td>3</td>\n",
       "      <td>303</td>\n",
       "    </tr>\n",
       "    <tr>\n",
       "      <th>3</th>\n",
       "      <td>4</td>\n",
       "      <td>327</td>\n",
       "    </tr>\n",
       "    <tr>\n",
       "      <th>4</th>\n",
       "      <td>5</td>\n",
       "      <td>310</td>\n",
       "    </tr>\n",
       "    <tr>\n",
       "      <th>5</th>\n",
       "      <td>6</td>\n",
       "      <td>313</td>\n",
       "    </tr>\n",
       "    <tr>\n",
       "      <th>6</th>\n",
       "      <td>7</td>\n",
       "      <td>429</td>\n",
       "    </tr>\n",
       "    <tr>\n",
       "      <th>7</th>\n",
       "      <td>8</td>\n",
       "      <td>382</td>\n",
       "    </tr>\n",
       "    <tr>\n",
       "      <th>8</th>\n",
       "      <td>9</td>\n",
       "      <td>333</td>\n",
       "    </tr>\n",
       "    <tr>\n",
       "      <th>9</th>\n",
       "      <td>10</td>\n",
       "      <td>414</td>\n",
       "    </tr>\n",
       "    <tr>\n",
       "      <th>10</th>\n",
       "      <td>11</td>\n",
       "      <td>363</td>\n",
       "    </tr>\n",
       "    <tr>\n",
       "      <th>11</th>\n",
       "      <td>12</td>\n",
       "      <td>396</td>\n",
       "    </tr>\n",
       "    <tr>\n",
       "      <th>12</th>\n",
       "      <td>13</td>\n",
       "      <td>341</td>\n",
       "    </tr>\n",
       "    <tr>\n",
       "      <th>13</th>\n",
       "      <td>14</td>\n",
       "      <td>477</td>\n",
       "    </tr>\n",
       "    <tr>\n",
       "      <th>14</th>\n",
       "      <td>15</td>\n",
       "      <td>413</td>\n",
       "    </tr>\n",
       "    <tr>\n",
       "      <th>15</th>\n",
       "      <td>16</td>\n",
       "      <td>370</td>\n",
       "    </tr>\n",
       "    <tr>\n",
       "      <th>16</th>\n",
       "      <td>17</td>\n",
       "      <td>386</td>\n",
       "    </tr>\n",
       "    <tr>\n",
       "      <th>17</th>\n",
       "      <td>18</td>\n",
       "      <td>357</td>\n",
       "    </tr>\n",
       "    <tr>\n",
       "      <th>18</th>\n",
       "      <td>19</td>\n",
       "      <td>356</td>\n",
       "    </tr>\n",
       "    <tr>\n",
       "      <th>19</th>\n",
       "      <td>20</td>\n",
       "      <td>345</td>\n",
       "    </tr>\n",
       "    <tr>\n",
       "      <th>20</th>\n",
       "      <td>21</td>\n",
       "      <td>425</td>\n",
       "    </tr>\n",
       "    <tr>\n",
       "      <th>21</th>\n",
       "      <td>22</td>\n",
       "      <td>375</td>\n",
       "    </tr>\n",
       "    <tr>\n",
       "      <th>22</th>\n",
       "      <td>23</td>\n",
       "      <td>343</td>\n",
       "    </tr>\n",
       "    <tr>\n",
       "      <th>23</th>\n",
       "      <td>24</td>\n",
       "      <td>324</td>\n",
       "    </tr>\n",
       "    <tr>\n",
       "      <th>24</th>\n",
       "      <td>25</td>\n",
       "      <td>362</td>\n",
       "    </tr>\n",
       "    <tr>\n",
       "      <th>25</th>\n",
       "      <td>26</td>\n",
       "      <td>289</td>\n",
       "    </tr>\n",
       "    <tr>\n",
       "      <th>26</th>\n",
       "      <td>27</td>\n",
       "      <td>341</td>\n",
       "    </tr>\n",
       "    <tr>\n",
       "      <th>27</th>\n",
       "      <td>28</td>\n",
       "      <td>419</td>\n",
       "    </tr>\n",
       "    <tr>\n",
       "      <th>28</th>\n",
       "      <td>29</td>\n",
       "      <td>377</td>\n",
       "    </tr>\n",
       "    <tr>\n",
       "      <th>29</th>\n",
       "      <td>30</td>\n",
       "      <td>309</td>\n",
       "    </tr>\n",
       "    <tr>\n",
       "      <th>30</th>\n",
       "      <td>31</td>\n",
       "      <td>186</td>\n",
       "    </tr>\n",
       "  </tbody>\n",
       "</table>\n",
       "</div>"
      ],
      "text/plain": [
       "    day  count\n",
       "0     1    325\n",
       "1     2    325\n",
       "2     3    303\n",
       "3     4    327\n",
       "4     5    310\n",
       "5     6    313\n",
       "6     7    429\n",
       "7     8    382\n",
       "8     9    333\n",
       "9    10    414\n",
       "10   11    363\n",
       "11   12    396\n",
       "12   13    341\n",
       "13   14    477\n",
       "14   15    413\n",
       "15   16    370\n",
       "16   17    386\n",
       "17   18    357\n",
       "18   19    356\n",
       "19   20    345\n",
       "20   21    425\n",
       "21   22    375\n",
       "22   23    343\n",
       "23   24    324\n",
       "24   25    362\n",
       "25   26    289\n",
       "26   27    341\n",
       "27   28    419\n",
       "28   29    377\n",
       "29   30    309\n",
       "30   31    186"
      ]
     },
     "execution_count": 248,
     "metadata": {},
     "output_type": "execute_result"
    }
   ],
   "source": [
    "# Count of appointments  per day\n",
    "day_groups = merged_df.groupby(['day'])\n",
    "df_day_groups = day_groups['appointment_id'].agg(['count'])\n",
    "df_day_groups.reset_index('day', inplace=True)\n",
    "df_day_groups"
   ]
  },
  {
   "cell_type": "code",
   "execution_count": null,
   "metadata": {},
   "outputs": [
    {
     "data": {
      "text/plain": [
       "<Axes: xlabel='day', ylabel='count'>"
      ]
     },
     "execution_count": 249,
     "metadata": {},
     "output_type": "execute_result"
    },
    {
     "data": {
      "image/png": "[encoded data removed]",
      "text/plain": [
       "<Figure size 800x600 with 1 Axes>"
      ]
     },
     "metadata": {},
     "output_type": "display_data"
    }
   ],
   "source": [
    "# Count of appointments  per day\n",
    "fig_dims = (8, 6)\n",
    "fig, ax = plt.subplots(figsize=fig_dims)\n",
    "\n",
    "sns.barplot(x= 'day',\n",
    "            y= 'count',\n",
    "            data= df_day_groups)"
   ]
  },
  {
   "cell_type": "markdown",
   "metadata": {},
   "source": [
    "The above graph shows that the month with the most appointments is the 14th, while the days with the least appointments are the 31st, 26th and the 3rd. "
   ]
  },
  {
   "cell_type": "code",
   "execution_count": null,
   "metadata": {},
   "outputs": [
    {
     "data": {
      "text/html": [
       "<div>\n",
       "<style scoped>\n",
       "    .dataframe tbody tr th:only-of-type {\n",
       "        vertical-align: middle;\n",
       "    }\n",
       "\n",
       "    .dataframe tbody tr th {\n",
       "        vertical-align: top;\n",
       "    }\n",
       "\n",
       "    .dataframe thead th {\n",
       "        text-align: right;\n",
       "    }\n",
       "</style>\n",
       "<table border=\"1\" class=\"dataframe\">\n",
       "  <thead>\n",
       "    <tr style=\"text-align: right;\">\n",
       "      <th></th>\n",
       "      <th>clinic_id</th>\n",
       "      <th>revenues</th>\n",
       "    </tr>\n",
       "  </thead>\n",
       "  <tbody>\n",
       "    <tr>\n",
       "      <th>0</th>\n",
       "      <td>1</td>\n",
       "      <td>920110.26</td>\n",
       "    </tr>\n",
       "    <tr>\n",
       "      <th>1</th>\n",
       "      <td>2</td>\n",
       "      <td>984163.85</td>\n",
       "    </tr>\n",
       "  </tbody>\n",
       "</table>\n",
       "</div>"
      ],
      "text/plain": [
       "   clinic_id   revenues\n",
       "0          1  920110.26\n",
       "1          2  984163.85"
      ]
     },
     "execution_count": 250,
     "metadata": {},
     "output_type": "execute_result"
    }
   ],
   "source": [
    "# Revenue per existing clinics\n",
    "existing_clinics_revenue = merged_df.groupby('clinic_id')['revenues'].sum().reset_index()\n",
    "existing_clinics_revenue"
   ]
  },
  {
   "cell_type": "code",
   "execution_count": null,
   "metadata": {},
   "outputs": [
    {
     "data": {
      "text/plain": [
       "<Axes: xlabel='clinic_id', ylabel='revenues'>"
      ]
     },
     "execution_count": 251,
     "metadata": {},
     "output_type": "execute_result"
    },
    {
     "data": {
      "image/png": "[encoded data removed]",
      "text/plain": [
       "<Figure size 600x400 with 1 Axes>"
      ]
     },
     "metadata": {},
     "output_type": "display_data"
    }
   ],
   "source": [
    "# Revenue per existing clinics\n",
    "fig_dims = (6, 4)\n",
    "fig, ax = plt.subplots(figsize=fig_dims)\n",
    "\n",
    "sns.barplot(x= 'clinic_id',\n",
    "            y= 'revenues',\n",
    "            data= existing_clinics_revenue)"
   ]
  },
  {
   "cell_type": "code",
   "execution_count": null,
   "metadata": {},
   "outputs": [
    {
     "data": {
      "text/plain": [
       "clinic_id\n",
       "1    920110.26\n",
       "Name: revenues, dtype: float64"
      ]
     },
     "execution_count": 252,
     "metadata": {},
     "output_type": "execute_result"
    }
   ],
   "source": [
    "# Clinic 1 revenue\n",
    "clinic1_revenue = merged_df.loc[(merged_df['clinic_id'] == 1)].groupby('clinic_id')['revenues'].sum()\n",
    "clinic1_revenue"
   ]
  },
  {
   "cell_type": "code",
   "execution_count": null,
   "metadata": {},
   "outputs": [
    {
     "data": {
      "text/html": [
       "<div>\n",
       "<style scoped>\n",
       "    .dataframe tbody tr th:only-of-type {\n",
       "        vertical-align: middle;\n",
       "    }\n",
       "\n",
       "    .dataframe tbody tr th {\n",
       "        vertical-align: top;\n",
       "    }\n",
       "\n",
       "    .dataframe thead th {\n",
       "        text-align: right;\n",
       "    }\n",
       "</style>\n",
       "<table border=\"1\" class=\"dataframe\">\n",
       "  <thead>\n",
       "    <tr style=\"text-align: right;\">\n",
       "      <th></th>\n",
       "      <th>month</th>\n",
       "      <th>revenues</th>\n",
       "    </tr>\n",
       "  </thead>\n",
       "  <tbody>\n",
       "    <tr>\n",
       "      <th>0</th>\n",
       "      <td>1</td>\n",
       "      <td>49252.01</td>\n",
       "    </tr>\n",
       "    <tr>\n",
       "      <th>1</th>\n",
       "      <td>2</td>\n",
       "      <td>67169.45</td>\n",
       "    </tr>\n",
       "    <tr>\n",
       "      <th>2</th>\n",
       "      <td>3</td>\n",
       "      <td>90365.66</td>\n",
       "    </tr>\n",
       "    <tr>\n",
       "      <th>3</th>\n",
       "      <td>4</td>\n",
       "      <td>87678.27</td>\n",
       "    </tr>\n",
       "    <tr>\n",
       "      <th>4</th>\n",
       "      <td>5</td>\n",
       "      <td>63757.20</td>\n",
       "    </tr>\n",
       "    <tr>\n",
       "      <th>5</th>\n",
       "      <td>6</td>\n",
       "      <td>53689.00</td>\n",
       "    </tr>\n",
       "    <tr>\n",
       "      <th>6</th>\n",
       "      <td>7</td>\n",
       "      <td>79371.47</td>\n",
       "    </tr>\n",
       "    <tr>\n",
       "      <th>7</th>\n",
       "      <td>8</td>\n",
       "      <td>79411.48</td>\n",
       "    </tr>\n",
       "    <tr>\n",
       "      <th>8</th>\n",
       "      <td>9</td>\n",
       "      <td>80940.52</td>\n",
       "    </tr>\n",
       "    <tr>\n",
       "      <th>9</th>\n",
       "      <td>10</td>\n",
       "      <td>86047.62</td>\n",
       "    </tr>\n",
       "    <tr>\n",
       "      <th>10</th>\n",
       "      <td>11</td>\n",
       "      <td>85419.24</td>\n",
       "    </tr>\n",
       "    <tr>\n",
       "      <th>11</th>\n",
       "      <td>12</td>\n",
       "      <td>97008.34</td>\n",
       "    </tr>\n",
       "  </tbody>\n",
       "</table>\n",
       "</div>"
      ],
      "text/plain": [
       "    month  revenues\n",
       "0       1  49252.01\n",
       "1       2  67169.45\n",
       "2       3  90365.66\n",
       "3       4  87678.27\n",
       "4       5  63757.20\n",
       "5       6  53689.00\n",
       "6       7  79371.47\n",
       "7       8  79411.48\n",
       "8       9  80940.52\n",
       "9      10  86047.62\n",
       "10     11  85419.24\n",
       "11     12  97008.34"
      ]
     },
     "execution_count": 253,
     "metadata": {},
     "output_type": "execute_result"
    }
   ],
   "source": [
    "# Clinic 1 monthly revenue\n",
    "clinic1_monthly_revenue = round(merged_df.loc[(merged_df['clinic_id'] == 1)].groupby('month')['revenues'].sum().reset_index(), 2)\n",
    "clinic1_monthly_revenue\n"
   ]
  },
  {
   "cell_type": "code",
   "execution_count": null,
   "metadata": {},
   "outputs": [
    {
     "data": {
      "text/plain": [
       "clinic_id\n",
       "2    984163.85\n",
       "Name: revenues, dtype: float64"
      ]
     },
     "execution_count": 254,
     "metadata": {},
     "output_type": "execute_result"
    }
   ],
   "source": [
    "# Clinic 2 revenue\n",
    "clinic2_revenue = merged_df.loc[(merged_df['clinic_id'] == 2)].groupby('clinic_id')['revenues'].sum()\n",
    "clinic2_revenue"
   ]
  },
  {
   "cell_type": "code",
   "execution_count": null,
   "metadata": {},
   "outputs": [
    {
     "data": {
      "text/html": [
       "<div>\n",
       "<style scoped>\n",
       "    .dataframe tbody tr th:only-of-type {\n",
       "        vertical-align: middle;\n",
       "    }\n",
       "\n",
       "    .dataframe tbody tr th {\n",
       "        vertical-align: top;\n",
       "    }\n",
       "\n",
       "    .dataframe thead th {\n",
       "        text-align: right;\n",
       "    }\n",
       "</style>\n",
       "<table border=\"1\" class=\"dataframe\">\n",
       "  <thead>\n",
       "    <tr style=\"text-align: right;\">\n",
       "      <th></th>\n",
       "      <th>month</th>\n",
       "      <th>revenues</th>\n",
       "    </tr>\n",
       "  </thead>\n",
       "  <tbody>\n",
       "    <tr>\n",
       "      <th>0</th>\n",
       "      <td>1</td>\n",
       "      <td>48897.77</td>\n",
       "    </tr>\n",
       "    <tr>\n",
       "      <th>1</th>\n",
       "      <td>2</td>\n",
       "      <td>58058.18</td>\n",
       "    </tr>\n",
       "    <tr>\n",
       "      <th>2</th>\n",
       "      <td>3</td>\n",
       "      <td>61340.22</td>\n",
       "    </tr>\n",
       "    <tr>\n",
       "      <th>3</th>\n",
       "      <td>4</td>\n",
       "      <td>59258.27</td>\n",
       "    </tr>\n",
       "    <tr>\n",
       "      <th>4</th>\n",
       "      <td>5</td>\n",
       "      <td>80434.88</td>\n",
       "    </tr>\n",
       "    <tr>\n",
       "      <th>5</th>\n",
       "      <td>6</td>\n",
       "      <td>107148.67</td>\n",
       "    </tr>\n",
       "    <tr>\n",
       "      <th>6</th>\n",
       "      <td>7</td>\n",
       "      <td>101954.10</td>\n",
       "    </tr>\n",
       "    <tr>\n",
       "      <th>7</th>\n",
       "      <td>8</td>\n",
       "      <td>58053.08</td>\n",
       "    </tr>\n",
       "    <tr>\n",
       "      <th>8</th>\n",
       "      <td>9</td>\n",
       "      <td>103774.35</td>\n",
       "    </tr>\n",
       "    <tr>\n",
       "      <th>9</th>\n",
       "      <td>10</td>\n",
       "      <td>95280.11</td>\n",
       "    </tr>\n",
       "    <tr>\n",
       "      <th>10</th>\n",
       "      <td>11</td>\n",
       "      <td>107583.58</td>\n",
       "    </tr>\n",
       "    <tr>\n",
       "      <th>11</th>\n",
       "      <td>12</td>\n",
       "      <td>102380.64</td>\n",
       "    </tr>\n",
       "  </tbody>\n",
       "</table>\n",
       "</div>"
      ],
      "text/plain": [
       "    month   revenues\n",
       "0       1   48897.77\n",
       "1       2   58058.18\n",
       "2       3   61340.22\n",
       "3       4   59258.27\n",
       "4       5   80434.88\n",
       "5       6  107148.67\n",
       "6       7  101954.10\n",
       "7       8   58053.08\n",
       "8       9  103774.35\n",
       "9      10   95280.11\n",
       "10     11  107583.58\n",
       "11     12  102380.64"
      ]
     },
     "execution_count": 255,
     "metadata": {},
     "output_type": "execute_result"
    }
   ],
   "source": [
    "# Clinic 2 monthly revenue\n",
    "clinic2_monthly_revenue = round(merged_df.loc[(merged_df['clinic_id'] == 2)].groupby('month')['revenues'].sum().reset_index(), 2)\n",
    "clinic2_monthly_revenue"
   ]
  },
  {
   "cell_type": "code",
   "execution_count": null,
   "metadata": {},
   "outputs": [
    {
     "data": {
      "text/html": [
       "<div>\n",
       "<style scoped>\n",
       "    .dataframe tbody tr th:only-of-type {\n",
       "        vertical-align: middle;\n",
       "    }\n",
       "\n",
       "    .dataframe tbody tr th {\n",
       "        vertical-align: top;\n",
       "    }\n",
       "\n",
       "    .dataframe thead th {\n",
       "        text-align: right;\n",
       "    }\n",
       "</style>\n",
       "<table border=\"1\" class=\"dataframe\">\n",
       "  <thead>\n",
       "    <tr style=\"text-align: right;\">\n",
       "      <th></th>\n",
       "      <th>Month</th>\n",
       "      <th>Revenue Clinic 1</th>\n",
       "      <th>Revenue Clinic 2</th>\n",
       "      <th>Average Clinics Revenue</th>\n",
       "    </tr>\n",
       "  </thead>\n",
       "  <tbody>\n",
       "    <tr>\n",
       "      <th>0</th>\n",
       "      <td>1</td>\n",
       "      <td>49252.01</td>\n",
       "      <td>48897.77</td>\n",
       "      <td>49074.89</td>\n",
       "    </tr>\n",
       "    <tr>\n",
       "      <th>1</th>\n",
       "      <td>2</td>\n",
       "      <td>67169.45</td>\n",
       "      <td>58058.18</td>\n",
       "      <td>62613.82</td>\n",
       "    </tr>\n",
       "    <tr>\n",
       "      <th>2</th>\n",
       "      <td>3</td>\n",
       "      <td>90365.66</td>\n",
       "      <td>61340.22</td>\n",
       "      <td>75852.94</td>\n",
       "    </tr>\n",
       "    <tr>\n",
       "      <th>3</th>\n",
       "      <td>4</td>\n",
       "      <td>87678.27</td>\n",
       "      <td>59258.27</td>\n",
       "      <td>73468.27</td>\n",
       "    </tr>\n",
       "    <tr>\n",
       "      <th>4</th>\n",
       "      <td>5</td>\n",
       "      <td>63757.20</td>\n",
       "      <td>80434.88</td>\n",
       "      <td>72096.04</td>\n",
       "    </tr>\n",
       "    <tr>\n",
       "      <th>5</th>\n",
       "      <td>6</td>\n",
       "      <td>53689.00</td>\n",
       "      <td>107148.67</td>\n",
       "      <td>80418.83</td>\n",
       "    </tr>\n",
       "    <tr>\n",
       "      <th>6</th>\n",
       "      <td>7</td>\n",
       "      <td>79371.47</td>\n",
       "      <td>101954.10</td>\n",
       "      <td>90662.78</td>\n",
       "    </tr>\n",
       "    <tr>\n",
       "      <th>7</th>\n",
       "      <td>8</td>\n",
       "      <td>79411.48</td>\n",
       "      <td>58053.08</td>\n",
       "      <td>68732.28</td>\n",
       "    </tr>\n",
       "    <tr>\n",
       "      <th>8</th>\n",
       "      <td>9</td>\n",
       "      <td>80940.52</td>\n",
       "      <td>103774.35</td>\n",
       "      <td>92357.44</td>\n",
       "    </tr>\n",
       "    <tr>\n",
       "      <th>9</th>\n",
       "      <td>10</td>\n",
       "      <td>86047.62</td>\n",
       "      <td>95280.11</td>\n",
       "      <td>90663.86</td>\n",
       "    </tr>\n",
       "    <tr>\n",
       "      <th>10</th>\n",
       "      <td>11</td>\n",
       "      <td>85419.24</td>\n",
       "      <td>107583.58</td>\n",
       "      <td>96501.41</td>\n",
       "    </tr>\n",
       "    <tr>\n",
       "      <th>11</th>\n",
       "      <td>12</td>\n",
       "      <td>97008.34</td>\n",
       "      <td>102380.64</td>\n",
       "      <td>99694.49</td>\n",
       "    </tr>\n",
       "  </tbody>\n",
       "</table>\n",
       "</div>"
      ],
      "text/plain": [
       "    Month  Revenue Clinic 1  Revenue Clinic 2  Average Clinics Revenue\n",
       "0       1          49252.01          48897.77                 49074.89\n",
       "1       2          67169.45          58058.18                 62613.82\n",
       "2       3          90365.66          61340.22                 75852.94\n",
       "3       4          87678.27          59258.27                 73468.27\n",
       "4       5          63757.20          80434.88                 72096.04\n",
       "5       6          53689.00         107148.67                 80418.83\n",
       "6       7          79371.47         101954.10                 90662.78\n",
       "7       8          79411.48          58053.08                 68732.28\n",
       "8       9          80940.52         103774.35                 92357.44\n",
       "9      10          86047.62          95280.11                 90663.86\n",
       "10     11          85419.24         107583.58                 96501.41\n",
       "11     12          97008.34         102380.64                 99694.49"
      ]
     },
     "metadata": {},
     "output_type": "display_data"
    }
   ],
   "source": [
    "# Create a new dataframe to store the clinics revenue and average by month\n",
    "new_df = pd.DataFrame({\n",
    "    'Month': clinic1_monthly_revenue['month'], \n",
    "    'Revenue Clinic 1': clinic1_monthly_revenue['revenues'],\n",
    "    'Revenue Clinic 2': clinic2_monthly_revenue['revenues'],\n",
    "    'Average Clinics Revenue':  round((clinic1_monthly_revenue['revenues'] + clinic2_monthly_revenue['revenues']) / 2, 2)\n",
    "})\n",
    "\n",
    "display(new_df)"
   ]
  },
  {
   "cell_type": "code",
   "execution_count": null,
   "metadata": {},
   "outputs": [
    {
     "data": {
      "text/plain": [
       "<Axes: xlabel='Month', ylabel='Average Clinics Revenue'>"
      ]
     },
     "execution_count": 257,
     "metadata": {},
     "output_type": "execute_result"
    },
    {
     "data": {
      "image/png": "[encoded data removed]",
      "text/plain": [
       "<Figure size 1000x800 with 1 Axes>"
      ]
     },
     "metadata": {},
     "output_type": "display_data"
    }
   ],
   "source": [
    "# Clinics average revenue by month\n",
    "fig_dims = (10, 8)\n",
    "fig, ax = plt.subplots(figsize=fig_dims)\n",
    "\n",
    "sns.barplot(x= 'Month',\n",
    "            y= 'Average Clinics Revenue',\n",
    "            data= new_df)"
   ]
  },
  {
   "cell_type": "markdown",
   "metadata": {},
   "source": [
    "The above graph shows the months with the highest revenues average between the two existing clinics are December and November, on the other hand the lowest are January and February."
   ]
  },
  {
   "cell_type": "code",
   "execution_count": null,
   "metadata": {},
   "outputs": [
    {
     "data": {
      "text/plain": [
       "840448.34"
      ]
     },
     "metadata": {},
     "output_type": "display_data"
    }
   ],
   "source": [
    "# New clinic '3' revenue expectation (opens in March 2023)\n",
    "new_clinic3_revenue_expectation = new_df.loc[(new_df['Month'] >= 3)]['Average Clinics Revenue'].sum()\n",
    "display(new_clinic3_revenue_expectation)"
   ]
  },
  {
   "cell_type": "code",
   "execution_count": null,
   "metadata": {},
   "outputs": [
    {
     "data": {
      "text/html": [
       "<div>\n",
       "<style scoped>\n",
       "    .dataframe tbody tr th:only-of-type {\n",
       "        vertical-align: middle;\n",
       "    }\n",
       "\n",
       "    .dataframe tbody tr th {\n",
       "        vertical-align: top;\n",
       "    }\n",
       "\n",
       "    .dataframe thead th {\n",
       "        text-align: right;\n",
       "    }\n",
       "</style>\n",
       "<table border=\"1\" class=\"dataframe\">\n",
       "  <thead>\n",
       "    <tr style=\"text-align: right;\">\n",
       "      <th></th>\n",
       "      <th>Month</th>\n",
       "      <th>Average Clinics Revenue</th>\n",
       "    </tr>\n",
       "  </thead>\n",
       "  <tbody>\n",
       "    <tr>\n",
       "      <th>2</th>\n",
       "      <td>3</td>\n",
       "      <td>75852.94</td>\n",
       "    </tr>\n",
       "    <tr>\n",
       "      <th>3</th>\n",
       "      <td>4</td>\n",
       "      <td>73468.27</td>\n",
       "    </tr>\n",
       "    <tr>\n",
       "      <th>4</th>\n",
       "      <td>5</td>\n",
       "      <td>72096.04</td>\n",
       "    </tr>\n",
       "    <tr>\n",
       "      <th>5</th>\n",
       "      <td>6</td>\n",
       "      <td>80418.83</td>\n",
       "    </tr>\n",
       "    <tr>\n",
       "      <th>6</th>\n",
       "      <td>7</td>\n",
       "      <td>90662.78</td>\n",
       "    </tr>\n",
       "    <tr>\n",
       "      <th>7</th>\n",
       "      <td>8</td>\n",
       "      <td>68732.28</td>\n",
       "    </tr>\n",
       "    <tr>\n",
       "      <th>8</th>\n",
       "      <td>9</td>\n",
       "      <td>92357.44</td>\n",
       "    </tr>\n",
       "    <tr>\n",
       "      <th>9</th>\n",
       "      <td>10</td>\n",
       "      <td>90663.86</td>\n",
       "    </tr>\n",
       "    <tr>\n",
       "      <th>10</th>\n",
       "      <td>11</td>\n",
       "      <td>96501.41</td>\n",
       "    </tr>\n",
       "    <tr>\n",
       "      <th>11</th>\n",
       "      <td>12</td>\n",
       "      <td>99694.49</td>\n",
       "    </tr>\n",
       "  </tbody>\n",
       "</table>\n",
       "</div>"
      ],
      "text/plain": [
       "    Month  Average Clinics Revenue\n",
       "2       3                 75852.94\n",
       "3       4                 73468.27\n",
       "4       5                 72096.04\n",
       "5       6                 80418.83\n",
       "6       7                 90662.78\n",
       "7       8                 68732.28\n",
       "8       9                 92357.44\n",
       "9      10                 90663.86\n",
       "10     11                 96501.41\n",
       "11     12                 99694.49"
      ]
     },
     "execution_count": 259,
     "metadata": {},
     "output_type": "execute_result"
    }
   ],
   "source": [
    "# New clinic '3' monthly revenue expectation (opens in March 2023)\n",
    "new_clinic3_monthly_revenue_expectation = new_df.loc[(new_df['Month'] >= 3)][['Month','Average Clinics Revenue']]\n",
    "new_clinic3_monthly_revenue_expectation"
   ]
  },
  {
   "cell_type": "code",
   "execution_count": null,
   "metadata": {},
   "outputs": [
    {
     "data": {
      "text/plain": [
       "538612.26"
      ]
     },
     "metadata": {},
     "output_type": "display_data"
    }
   ],
   "source": [
    "# New clinic '4' revenue expectation (opens in July 2023)\n",
    "new_clinic4_revenue_expectation = new_df.loc[(new_df['Month'] >= 7)]['Average Clinics Revenue'].sum()\n",
    "display(new_clinic4_revenue_expectation)"
   ]
  },
  {
   "cell_type": "code",
   "execution_count": null,
   "metadata": {},
   "outputs": [
    {
     "data": {
      "text/html": [
       "<div>\n",
       "<style scoped>\n",
       "    .dataframe tbody tr th:only-of-type {\n",
       "        vertical-align: middle;\n",
       "    }\n",
       "\n",
       "    .dataframe tbody tr th {\n",
       "        vertical-align: top;\n",
       "    }\n",
       "\n",
       "    .dataframe thead th {\n",
       "        text-align: right;\n",
       "    }\n",
       "</style>\n",
       "<table border=\"1\" class=\"dataframe\">\n",
       "  <thead>\n",
       "    <tr style=\"text-align: right;\">\n",
       "      <th></th>\n",
       "      <th>Month</th>\n",
       "      <th>Average Clinics Revenue</th>\n",
       "    </tr>\n",
       "  </thead>\n",
       "  <tbody>\n",
       "    <tr>\n",
       "      <th>6</th>\n",
       "      <td>7</td>\n",
       "      <td>90662.78</td>\n",
       "    </tr>\n",
       "    <tr>\n",
       "      <th>7</th>\n",
       "      <td>8</td>\n",
       "      <td>68732.28</td>\n",
       "    </tr>\n",
       "    <tr>\n",
       "      <th>8</th>\n",
       "      <td>9</td>\n",
       "      <td>92357.44</td>\n",
       "    </tr>\n",
       "    <tr>\n",
       "      <th>9</th>\n",
       "      <td>10</td>\n",
       "      <td>90663.86</td>\n",
       "    </tr>\n",
       "    <tr>\n",
       "      <th>10</th>\n",
       "      <td>11</td>\n",
       "      <td>96501.41</td>\n",
       "    </tr>\n",
       "    <tr>\n",
       "      <th>11</th>\n",
       "      <td>12</td>\n",
       "      <td>99694.49</td>\n",
       "    </tr>\n",
       "  </tbody>\n",
       "</table>\n",
       "</div>"
      ],
      "text/plain": [
       "    Month  Average Clinics Revenue\n",
       "6       7                 90662.78\n",
       "7       8                 68732.28\n",
       "8       9                 92357.44\n",
       "9      10                 90663.86\n",
       "10     11                 96501.41\n",
       "11     12                 99694.49"
      ]
     },
     "execution_count": 261,
     "metadata": {},
     "output_type": "execute_result"
    }
   ],
   "source": [
    "# New clinic '4' monthly revenue expectation (opens in July 2023)\n",
    "new_clinic4_monthly_revenue_expectation = new_df.loc[(new_df['Month'] >= 7)][['Month','Average Clinics Revenue']]\n",
    "new_clinic4_monthly_revenue_expectation"
   ]
  },
  {
   "cell_type": "code",
   "execution_count": null,
   "metadata": {},
   "outputs": [
    {
     "data": {
      "text/plain": [
       "3283334.71"
      ]
     },
     "execution_count": 262,
     "metadata": {},
     "output_type": "execute_result"
    }
   ],
   "source": [
    "# 2023 revenue expectation\n",
    "revenue_expectation_2023 = existing_clinics_2022_revenue + new_clinic3_revenue_expectation + new_clinic4_revenue_expectation\n",
    "revenue_expectation_2023"
   ]
  },
  {
   "cell_type": "code",
   "execution_count": null,
   "metadata": {},
   "outputs": [
    {
     "data": {
      "image/png": "[encoded data removed]",
      "text/plain": [
       "<Figure size 400x400 with 1 Axes>"
      ]
     },
     "metadata": {},
     "output_type": "display_data"
    }
   ],
   "source": [
    "# Data\n",
    "year = [2022, 2023]\n",
    "revenue = [existing_clinics_2022_revenue, revenue_expectation_2023]\n",
    "\n",
    "# Plotting\n",
    "plt.figure(figsize=(4, 4))\n",
    "bars = plt.bar(year, revenue, color='skyblue')\n",
    "plt.title('2022 Revenue and 2023 Expectation')\n",
    "plt.xlabel('Year')\n",
    "plt.ylabel('Revenue')\n",
    "plt.xticks(year)\n",
    "plt.grid(axis='y')\n",
    "# Adding data labels on top of the bars\n",
    "# Adding data labels on top of the bars\n",
    "for bar, value in zip(bars, revenue):\n",
    "    formatted_value = \"{:,.2f}\".format(value)  # Separating thousands and formatting to two decimal places\n",
    "    plt.text(bar.get_x() + bar.get_width() / 2, bar.get_height(), formatted_value,\n",
    "             ha='center', va='bottom', color='black', fontsize=10)\n",
    "plt.show()\n"
   ]
  },
  {
   "cell_type": "markdown",
   "metadata": {},
   "source": [
    "Considering that the existing clinics will perform the same way they did in 2022,\n",
    "and that the new clinics will perform as well as the average between the existing clinics,\n",
    "it can be expected the revenue of 3283334.71 in 2023."
   ]
  },
  {
   "cell_type": "code",
   "execution_count": null,
   "metadata": {},
   "outputs": [
    {
     "data": {
      "text/plain": [
       "1379060.6"
      ]
     },
     "execution_count": 264,
     "metadata": {},
     "output_type": "execute_result"
    }
   ],
   "source": [
    "# Increase of revenue between 2023 and 2022\n",
    "revenue_increase_expectation = round(revenue_expectation_2023 - existing_clinics_2022_revenue, 2)\n",
    "revenue_increase_expectation"
   ]
  },
  {
   "cell_type": "code",
   "execution_count": null,
   "metadata": {},
   "outputs": [
    {
     "data": {
      "text/plain": [
       "72.0"
      ]
     },
     "execution_count": 265,
     "metadata": {},
     "output_type": "execute_result"
    }
   ],
   "source": [
    "# % Increase of revenue between 2023 and 2022\n",
    "revenue_increase_expectation_percent = (round(revenue_increase_expectation / existing_clinics_2022_revenue, 2)) * 100\n",
    "revenue_increase_expectation_percent"
   ]
  },
  {
   "cell_type": "code",
   "execution_count": null,
   "metadata": {},
   "outputs": [
    {
     "data": {
      "text/html": [
       "<div>\n",
       "<style scoped>\n",
       "    .dataframe tbody tr th:only-of-type {\n",
       "        vertical-align: middle;\n",
       "    }\n",
       "\n",
       "    .dataframe tbody tr th {\n",
       "        vertical-align: top;\n",
       "    }\n",
       "\n",
       "    .dataframe thead th {\n",
       "        text-align: right;\n",
       "    }\n",
       "</style>\n",
       "<table border=\"1\" class=\"dataframe\">\n",
       "  <thead>\n",
       "    <tr style=\"text-align: right;\">\n",
       "      <th></th>\n",
       "      <th>2022 Revenue</th>\n",
       "      <th>2023 Revenue Expectation</th>\n",
       "      <th>Revenue Increase Expectation $</th>\n",
       "      <th>Revenue Increase Expectation %</th>\n",
       "    </tr>\n",
       "  </thead>\n",
       "  <tbody>\n",
       "    <tr>\n",
       "      <th>0</th>\n",
       "      <td>1904274.11</td>\n",
       "      <td>3283334.71</td>\n",
       "      <td>1379060.6</td>\n",
       "      <td>72.0</td>\n",
       "    </tr>\n",
       "  </tbody>\n",
       "</table>\n",
       "</div>"
      ],
      "text/plain": [
       "   2022 Revenue  2023 Revenue Expectation  Revenue Increase Expectation $  \\\n",
       "0    1904274.11                3283334.71                       1379060.6   \n",
       "\n",
       "   Revenue Increase Expectation %  \n",
       "0                            72.0  "
      ]
     },
     "metadata": {},
     "output_type": "display_data"
    }
   ],
   "source": [
    "# Create a new dataframe to store the clinics revenue and average by month\n",
    "df_revenue_diff = pd.DataFrame({\n",
    "    '2022 Revenue': existing_clinics_2022_revenue, \n",
    "    '2023 Revenue Expectation': revenue_expectation_2023,\n",
    "    'Revenue Increase Expectation $': revenue_increase_expectation,\n",
    "    'Revenue Increase Expectation %':  revenue_increase_expectation_percent\n",
    "}, index=[0])\n",
    "\n",
    "display(df_revenue_diff)"
   ]
  },
  {
   "cell_type": "markdown",
   "metadata": {},
   "source": [
    "It can be exepected to have an increase of 72% of revenues in 2023."
   ]
  },
  {
   "cell_type": "code",
   "execution_count": null,
   "metadata": {},
   "outputs": [
    {
     "data": {
      "text/plain": [
       "patient_id\n",
       "36274     24\n",
       "40415     23\n",
       "36180     22\n",
       "91070     21\n",
       "44313     21\n",
       "          ..\n",
       "152352     1\n",
       "135722     1\n",
       "149203     1\n",
       "22978      1\n",
       "67361      1\n",
       "Name: count, Length: 3977, dtype: int64"
      ]
     },
     "execution_count": 267,
     "metadata": {},
     "output_type": "execute_result"
    }
   ],
   "source": [
    "# Existing clinics appointments per patient\n",
    "existing_clinics_patients_appointments = merged_df['patient_id'].value_counts()\n",
    "existing_clinics_patients_appointments"
   ]
  },
  {
   "cell_type": "code",
   "execution_count": null,
   "metadata": {},
   "outputs": [
    {
     "data": {
      "text/html": [
       "<div>\n",
       "<style scoped>\n",
       "    .dataframe tbody tr th:only-of-type {\n",
       "        vertical-align: middle;\n",
       "    }\n",
       "\n",
       "    .dataframe tbody tr th {\n",
       "        vertical-align: top;\n",
       "    }\n",
       "\n",
       "    .dataframe thead th {\n",
       "        text-align: right;\n",
       "    }\n",
       "</style>\n",
       "<table border=\"1\" class=\"dataframe\">\n",
       "  <thead>\n",
       "    <tr style=\"text-align: right;\">\n",
       "      <th></th>\n",
       "      <th>patient_id</th>\n",
       "      <th>count</th>\n",
       "      <th>sum</th>\n",
       "      <th>mean</th>\n",
       "    </tr>\n",
       "  </thead>\n",
       "  <tbody>\n",
       "    <tr>\n",
       "      <th>1942</th>\n",
       "      <td>77798</td>\n",
       "      <td>19</td>\n",
       "      <td>17628.64</td>\n",
       "      <td>927.823158</td>\n",
       "    </tr>\n",
       "    <tr>\n",
       "      <th>720</th>\n",
       "      <td>42912</td>\n",
       "      <td>12</td>\n",
       "      <td>16884.43</td>\n",
       "      <td>1407.035833</td>\n",
       "    </tr>\n",
       "    <tr>\n",
       "      <th>716</th>\n",
       "      <td>42873</td>\n",
       "      <td>18</td>\n",
       "      <td>16264.09</td>\n",
       "      <td>903.560556</td>\n",
       "    </tr>\n",
       "    <tr>\n",
       "      <th>953</th>\n",
       "      <td>47306</td>\n",
       "      <td>12</td>\n",
       "      <td>15672.46</td>\n",
       "      <td>1306.038333</td>\n",
       "    </tr>\n",
       "    <tr>\n",
       "      <th>805</th>\n",
       "      <td>44498</td>\n",
       "      <td>9</td>\n",
       "      <td>15647.50</td>\n",
       "      <td>1738.611111</td>\n",
       "    </tr>\n",
       "    <tr>\n",
       "      <th>...</th>\n",
       "      <td>...</td>\n",
       "      <td>...</td>\n",
       "      <td>...</td>\n",
       "      <td>...</td>\n",
       "    </tr>\n",
       "    <tr>\n",
       "      <th>192</th>\n",
       "      <td>23519</td>\n",
       "      <td>1</td>\n",
       "      <td>10.34</td>\n",
       "      <td>10.340000</td>\n",
       "    </tr>\n",
       "    <tr>\n",
       "      <th>146</th>\n",
       "      <td>22002</td>\n",
       "      <td>1</td>\n",
       "      <td>10.33</td>\n",
       "      <td>10.330000</td>\n",
       "    </tr>\n",
       "    <tr>\n",
       "      <th>105</th>\n",
       "      <td>20535</td>\n",
       "      <td>1</td>\n",
       "      <td>10.33</td>\n",
       "      <td>10.330000</td>\n",
       "    </tr>\n",
       "    <tr>\n",
       "      <th>175</th>\n",
       "      <td>23042</td>\n",
       "      <td>1</td>\n",
       "      <td>10.33</td>\n",
       "      <td>10.330000</td>\n",
       "    </tr>\n",
       "    <tr>\n",
       "      <th>1</th>\n",
       "      <td>18071</td>\n",
       "      <td>0</td>\n",
       "      <td>0.00</td>\n",
       "      <td>NaN</td>\n",
       "    </tr>\n",
       "  </tbody>\n",
       "</table>\n",
       "<p>3977 rows × 4 columns</p>\n",
       "</div>"
      ],
      "text/plain": [
       "      patient_id  count       sum         mean\n",
       "1942       77798     19  17628.64   927.823158\n",
       "720        42912     12  16884.43  1407.035833\n",
       "716        42873     18  16264.09   903.560556\n",
       "953        47306     12  15672.46  1306.038333\n",
       "805        44498      9  15647.50  1738.611111\n",
       "...          ...    ...       ...          ...\n",
       "192        23519      1     10.34    10.340000\n",
       "146        22002      1     10.33    10.330000\n",
       "105        20535      1     10.33    10.330000\n",
       "175        23042      1     10.33    10.330000\n",
       "1          18071      0      0.00          NaN\n",
       "\n",
       "[3977 rows x 4 columns]"
      ]
     },
     "execution_count": 268,
     "metadata": {},
     "output_type": "execute_result"
    }
   ],
   "source": [
    "# Sum and Count of appointment's revenues per patient\n",
    "patient_groups = merged_df.groupby(['patient_id'])\n",
    "df_patient_groups = patient_groups['revenues'].agg(['count', 'sum', 'mean'])\n",
    "df_patient_groups.reset_index('patient_id', inplace=True)\n",
    "df_patient_groups.sort_values(by='sum', ascending=False)"
   ]
  },
  {
   "cell_type": "code",
   "execution_count": null,
   "metadata": {},
   "outputs": [
    {
     "data": {
      "text/html": [
       "<div>\n",
       "<style scoped>\n",
       "    .dataframe tbody tr th:only-of-type {\n",
       "        vertical-align: middle;\n",
       "    }\n",
       "\n",
       "    .dataframe tbody tr th {\n",
       "        vertical-align: top;\n",
       "    }\n",
       "\n",
       "    .dataframe thead th {\n",
       "        text-align: right;\n",
       "    }\n",
       "</style>\n",
       "<table border=\"1\" class=\"dataframe\">\n",
       "  <thead>\n",
       "    <tr style=\"text-align: right;\">\n",
       "      <th></th>\n",
       "      <th>patient_id</th>\n",
       "      <th>count</th>\n",
       "      <th>sum</th>\n",
       "      <th>mean</th>\n",
       "    </tr>\n",
       "  </thead>\n",
       "  <tbody>\n",
       "    <tr>\n",
       "      <th>2473</th>\n",
       "      <td>94518</td>\n",
       "      <td>8</td>\n",
       "      <td>14214.66</td>\n",
       "      <td>1776.832500</td>\n",
       "    </tr>\n",
       "    <tr>\n",
       "      <th>805</th>\n",
       "      <td>44498</td>\n",
       "      <td>9</td>\n",
       "      <td>15647.50</td>\n",
       "      <td>1738.611111</td>\n",
       "    </tr>\n",
       "    <tr>\n",
       "      <th>996</th>\n",
       "      <td>48387</td>\n",
       "      <td>3</td>\n",
       "      <td>4463.24</td>\n",
       "      <td>1487.746667</td>\n",
       "    </tr>\n",
       "    <tr>\n",
       "      <th>191</th>\n",
       "      <td>23505</td>\n",
       "      <td>10</td>\n",
       "      <td>14469.32</td>\n",
       "      <td>1446.932000</td>\n",
       "    </tr>\n",
       "    <tr>\n",
       "      <th>720</th>\n",
       "      <td>42912</td>\n",
       "      <td>12</td>\n",
       "      <td>16884.43</td>\n",
       "      <td>1407.035833</td>\n",
       "    </tr>\n",
       "    <tr>\n",
       "      <th>...</th>\n",
       "      <td>...</td>\n",
       "      <td>...</td>\n",
       "      <td>...</td>\n",
       "      <td>...</td>\n",
       "    </tr>\n",
       "    <tr>\n",
       "      <th>192</th>\n",
       "      <td>23519</td>\n",
       "      <td>1</td>\n",
       "      <td>10.34</td>\n",
       "      <td>10.340000</td>\n",
       "    </tr>\n",
       "    <tr>\n",
       "      <th>146</th>\n",
       "      <td>22002</td>\n",
       "      <td>1</td>\n",
       "      <td>10.33</td>\n",
       "      <td>10.330000</td>\n",
       "    </tr>\n",
       "    <tr>\n",
       "      <th>175</th>\n",
       "      <td>23042</td>\n",
       "      <td>1</td>\n",
       "      <td>10.33</td>\n",
       "      <td>10.330000</td>\n",
       "    </tr>\n",
       "    <tr>\n",
       "      <th>105</th>\n",
       "      <td>20535</td>\n",
       "      <td>1</td>\n",
       "      <td>10.33</td>\n",
       "      <td>10.330000</td>\n",
       "    </tr>\n",
       "    <tr>\n",
       "      <th>1</th>\n",
       "      <td>18071</td>\n",
       "      <td>0</td>\n",
       "      <td>0.00</td>\n",
       "      <td>NaN</td>\n",
       "    </tr>\n",
       "  </tbody>\n",
       "</table>\n",
       "<p>3977 rows × 4 columns</p>\n",
       "</div>"
      ],
      "text/plain": [
       "      patient_id  count       sum         mean\n",
       "2473       94518      8  14214.66  1776.832500\n",
       "805        44498      9  15647.50  1738.611111\n",
       "996        48387      3   4463.24  1487.746667\n",
       "191        23505     10  14469.32  1446.932000\n",
       "720        42912     12  16884.43  1407.035833\n",
       "...          ...    ...       ...          ...\n",
       "192        23519      1     10.34    10.340000\n",
       "146        22002      1     10.33    10.330000\n",
       "175        23042      1     10.33    10.330000\n",
       "105        20535      1     10.33    10.330000\n",
       "1          18071      0      0.00          NaN\n",
       "\n",
       "[3977 rows x 4 columns]"
      ]
     },
     "execution_count": 269,
     "metadata": {},
     "output_type": "execute_result"
    }
   ],
   "source": [
    "# Average and Count of appointment's revenues per patient\n",
    "patient_groups = merged_df.groupby(['patient_id'])\n",
    "df_patient_groups = patient_groups['revenues'].agg(['count','sum', 'mean'])\n",
    "df_patient_groups.reset_index('patient_id', inplace=True)\n",
    "df_patient_groups.sort_values(by='mean', ascending=False)"
   ]
  },
  {
   "cell_type": "markdown",
   "metadata": {},
   "source": [
    "The patient with more appointments in 2022 was the id number 36274 with 24 appearances. On the other hand the one who brought the highest revenue was the id number 77798, while the patient id number 94518 was the one with the highest revenue average."
   ]
  },
  {
   "cell_type": "code",
   "execution_count": null,
   "metadata": {},
   "outputs": [
    {
     "data": {
      "text/plain": [
       "3977"
      ]
     },
     "execution_count": 270,
     "metadata": {},
     "output_type": "execute_result"
    }
   ],
   "source": [
    "# Existing clinics unique patients\n",
    "existing_clinics_unique_patients = merged_df['patient_id'].nunique()\n",
    "existing_clinics_unique_patients"
   ]
  },
  {
   "cell_type": "code",
   "execution_count": null,
   "metadata": {},
   "outputs": [
    {
     "data": {
      "text/plain": [
       "clinic_id\n",
       "1    1605\n",
       "2    2372\n",
       "Name: patient_id, dtype: int64"
      ]
     },
     "execution_count": 271,
     "metadata": {},
     "output_type": "execute_result"
    }
   ],
   "source": [
    "# Existing clinics unique patients per clinic\n",
    "existing_clinics_unique_patients_per_clinic = merged_df.groupby('clinic_id')['patient_id'].nunique()\n",
    "existing_clinics_unique_patients_per_clinic"
   ]
  },
  {
   "cell_type": "code",
   "execution_count": null,
   "metadata": {},
   "outputs": [
    {
     "data": {
      "text/plain": [
       "1605"
      ]
     },
     "execution_count": 272,
     "metadata": {},
     "output_type": "execute_result"
    }
   ],
   "source": [
    "# Clinic 1 unique patients\n",
    "clinic1_unique_patients = merged_df.loc[(merged_df['clinic_id'] == 1)]['patient_id'].nunique()\n",
    "clinic1_unique_patients"
   ]
  },
  {
   "cell_type": "code",
   "execution_count": null,
   "metadata": {},
   "outputs": [
    {
     "data": {
      "text/plain": [
       "2372"
      ]
     },
     "execution_count": 273,
     "metadata": {},
     "output_type": "execute_result"
    }
   ],
   "source": [
    "# Clinic 2 unique patients\n",
    "clinic2_unique_patients = merged_df.loc[(merged_df['clinic_id'] == 2)]['patient_id'].nunique()\n",
    "clinic2_unique_patients"
   ]
  },
  {
   "cell_type": "code",
   "execution_count": null,
   "metadata": {},
   "outputs": [
    {
     "data": {
      "text/plain": [
       "1988.5"
      ]
     },
     "execution_count": 274,
     "metadata": {},
     "output_type": "execute_result"
    }
   ],
   "source": [
    "# Average between existing clinics unique patients\n",
    "avg_unique_patients = (clinic1_unique_patients + clinic2_unique_patients) / 2\n",
    "avg_unique_patients"
   ]
  },
  {
   "cell_type": "code",
   "execution_count": null,
   "metadata": {},
   "outputs": [
    {
     "data": {
      "text/plain": [
       "1657"
      ]
     },
     "execution_count": 275,
     "metadata": {},
     "output_type": "execute_result"
    }
   ],
   "source": [
    "# Clinic 3 unique patients expectation\n",
    "clinic3_qty_working_months = 10 # opens in March, so it has 10 working months in 2023. \n",
    "clinic3_unique_patients_expec = round((avg_unique_patients / 12) * clinic3_qty_working_months)\n",
    "clinic3_unique_patients_expec"
   ]
  },
  {
   "cell_type": "code",
   "execution_count": null,
   "metadata": {},
   "outputs": [
    {
     "data": {
      "text/plain": [
       "994"
      ]
     },
     "execution_count": 276,
     "metadata": {},
     "output_type": "execute_result"
    }
   ],
   "source": [
    "# Clinic 4 unique patients expectation\n",
    "clinic4_qty_working_months = 6 # opens in July, so it has 6 working months in 2023.\n",
    "clinic4_unique_patients_expec = round((avg_unique_patients / 12) * clinic4_qty_working_months)\n",
    "clinic4_unique_patients_expec"
   ]
  },
  {
   "cell_type": "code",
   "execution_count": null,
   "metadata": {},
   "outputs": [
    {
     "data": {
      "text/plain": [
       "6628"
      ]
     },
     "execution_count": 277,
     "metadata": {},
     "output_type": "execute_result"
    }
   ],
   "source": [
    "# 2023 unique patients expectation\n",
    "unique_patients_expectation_2023 = existing_clinics_unique_patients + clinic3_unique_patients_expec + clinic4_unique_patients_expec\n",
    "unique_patients_expectation_2023"
   ]
  },
  {
   "cell_type": "code",
   "execution_count": null,
   "metadata": {},
   "outputs": [
    {
     "data": {
      "text/plain": [
       "2651"
      ]
     },
     "execution_count": 278,
     "metadata": {},
     "output_type": "execute_result"
    }
   ],
   "source": [
    "# Increase of unique patients between 2022 and 2023\n",
    "unique_patients_increase_expectation = round(unique_patients_expectation_2023 - existing_clinics_unique_patients, 2)\n",
    "unique_patients_increase_expectation"
   ]
  },
  {
   "cell_type": "code",
   "execution_count": null,
   "metadata": {},
   "outputs": [
    {
     "data": {
      "text/plain": [
       "67.0"
      ]
     },
     "execution_count": 279,
     "metadata": {},
     "output_type": "execute_result"
    }
   ],
   "source": [
    "# % Increase of unique patients between 2022 and 2023\n",
    "unique_patients_increase_expectation_percent = (round(unique_patients_increase_expectation / existing_clinics_unique_patients, 2)) * 100\n",
    "unique_patients_increase_expectation_percent"
   ]
  },
  {
   "cell_type": "code",
   "execution_count": null,
   "metadata": {},
   "outputs": [
    {
     "data": {
      "image/png": "[encoded data removed]",
      "text/plain": [
       "<Figure size 400x400 with 1 Axes>"
      ]
     },
     "metadata": {},
     "output_type": "display_data"
    }
   ],
   "source": [
    "# Data\n",
    "year = [2022, 2023]\n",
    "unique_patients = [existing_clinics_unique_patients, unique_patients_expectation_2023]\n",
    "\n",
    "# Plotting\n",
    "plt.figure(figsize=(4, 4))\n",
    "bars = plt.bar(year, unique_patients, color='skyblue')\n",
    "plt.title('2022 Unique Patients and 2023 Expectation')\n",
    "plt.xlabel('Year')\n",
    "plt.ylabel('Unique Patients')\n",
    "plt.xticks(year)\n",
    "plt.grid(axis='y')\n",
    "# Adding data labels on top of the bars\n",
    "# Adding data labels on top of the bars\n",
    "for bar, value in zip(bars, unique_patients):\n",
    "    formatted_value = \"{:,.2f}\".format(value)  # Separating thousands and formatting to two decimal places\n",
    "    plt.text(bar.get_x() + bar.get_width() / 2, bar.get_height(), formatted_value,\n",
    "             ha='center', va='bottom', color='black', fontsize=10)\n",
    "plt.show()"
   ]
  },
  {
   "cell_type": "markdown",
   "metadata": {},
   "source": [
    "Considering that the existing clinics will perform the same way they did in 2022,\n",
    "and that the new clinics will perform as the average between the existing clinics,\n",
    "it can be expected to be acquired the total of 6628 unique patients by the end of 2023."
   ]
  }
 ],
 "metadata": {
  "kernelspec": {
   "display_name": "Python 3",
   "language": "python",
   "name": "python3"
  },
  "language_info": {
   "codemirror_mode": {
    "name": "ipython",
    "version": 3
   },
   "file_extension": ".py",
   "mimetype": "text/x-python",
   "name": "python",
   "nbconvert_exporter": "python",
   "pygments_lexer": "ipython3",
   "version": "3.12.1"
  }
 },
 "nbformat": 4,
 "nbformat_minor": 2
}
